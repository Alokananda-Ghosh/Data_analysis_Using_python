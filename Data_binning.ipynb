{
 "cells": [
  {
   "cell_type": "code",
   "execution_count": 156,
   "id": "ae49339e",
   "metadata": {},
   "outputs": [
    {
     "data": {
      "text/html": [
       "<div>\n",
       "<style scoped>\n",
       "    .dataframe tbody tr th:only-of-type {\n",
       "        vertical-align: middle;\n",
       "    }\n",
       "\n",
       "    .dataframe tbody tr th {\n",
       "        vertical-align: top;\n",
       "    }\n",
       "\n",
       "    .dataframe thead th {\n",
       "        text-align: right;\n",
       "    }\n",
       "</style>\n",
       "<table border=\"1\" class=\"dataframe\">\n",
       "  <thead>\n",
       "    <tr style=\"text-align: right;\">\n",
       "      <th></th>\n",
       "      <th>Date</th>\n",
       "      <th>Time</th>\n",
       "      <th>Open</th>\n",
       "      <th>High</th>\n",
       "      <th>Low</th>\n",
       "      <th>Close</th>\n",
       "      <th>Volume</th>\n",
       "      <th>Close-Open</th>\n",
       "      <th>Unnamed: 10</th>\n",
       "      <th>Hour</th>\n",
       "      <th>Minute</th>\n",
       "      <th>AM/PM</th>\n",
       "      <th>Consider</th>\n",
       "    </tr>\n",
       "  </thead>\n",
       "  <tbody>\n",
       "    <tr>\n",
       "      <th>0</th>\n",
       "      <td>6/2/2022</td>\n",
       "      <td>12:00:00</td>\n",
       "      <td>35571.20</td>\n",
       "      <td>35612.00</td>\n",
       "      <td>35543.50</td>\n",
       "      <td>35562.00</td>\n",
       "      <td>52975</td>\n",
       "      <td>0.00</td>\n",
       "      <td>NaN</td>\n",
       "      <td>12</td>\n",
       "      <td>0</td>\n",
       "      <td>12:00 PM</td>\n",
       "      <td>False</td>\n",
       "    </tr>\n",
       "    <tr>\n",
       "      <th>1</th>\n",
       "      <td>6/2/2022</td>\n",
       "      <td>12:15:00</td>\n",
       "      <td>35562.00</td>\n",
       "      <td>35589.00</td>\n",
       "      <td>35539.70</td>\n",
       "      <td>35551.60</td>\n",
       "      <td>56575</td>\n",
       "      <td>-4.10</td>\n",
       "      <td>NaN</td>\n",
       "      <td>12</td>\n",
       "      <td>15</td>\n",
       "      <td>12:00 PM</td>\n",
       "      <td>True</td>\n",
       "    </tr>\n",
       "    <tr>\n",
       "      <th>2</th>\n",
       "      <td>6/2/2022</td>\n",
       "      <td>12:30:00</td>\n",
       "      <td>35555.70</td>\n",
       "      <td>35623.45</td>\n",
       "      <td>35545.05</td>\n",
       "      <td>35595.00</td>\n",
       "      <td>71075</td>\n",
       "      <td>-8.00</td>\n",
       "      <td>NaN</td>\n",
       "      <td>12</td>\n",
       "      <td>30</td>\n",
       "      <td>12:00 PM</td>\n",
       "      <td>True</td>\n",
       "    </tr>\n",
       "    <tr>\n",
       "      <th>3</th>\n",
       "      <td>6/2/2022</td>\n",
       "      <td>12:45:00</td>\n",
       "      <td>35603.00</td>\n",
       "      <td>35675.00</td>\n",
       "      <td>35570.00</td>\n",
       "      <td>35600.00</td>\n",
       "      <td>113375</td>\n",
       "      <td>-3.55</td>\n",
       "      <td>NaN</td>\n",
       "      <td>12</td>\n",
       "      <td>45</td>\n",
       "      <td>12:00 PM</td>\n",
       "      <td>True</td>\n",
       "    </tr>\n",
       "    <tr>\n",
       "      <th>4</th>\n",
       "      <td>6/2/2022</td>\n",
       "      <td>13:00:00</td>\n",
       "      <td>35603.55</td>\n",
       "      <td>35627.60</td>\n",
       "      <td>35570.40</td>\n",
       "      <td>35610.00</td>\n",
       "      <td>51825</td>\n",
       "      <td>3.90</td>\n",
       "      <td>NaN</td>\n",
       "      <td>1</td>\n",
       "      <td>0</td>\n",
       "      <td>12:00 PM</td>\n",
       "      <td>False</td>\n",
       "    </tr>\n",
       "    <tr>\n",
       "      <th>...</th>\n",
       "      <td>...</td>\n",
       "      <td>...</td>\n",
       "      <td>...</td>\n",
       "      <td>...</td>\n",
       "      <td>...</td>\n",
       "      <td>...</td>\n",
       "      <td>...</td>\n",
       "      <td>...</td>\n",
       "      <td>...</td>\n",
       "      <td>...</td>\n",
       "      <td>...</td>\n",
       "      <td>...</td>\n",
       "      <td>...</td>\n",
       "    </tr>\n",
       "    <tr>\n",
       "      <th>272</th>\n",
       "      <td>6/17/2022</td>\n",
       "      <td>10:30:00</td>\n",
       "      <td>32635.00</td>\n",
       "      <td>32694.45</td>\n",
       "      <td>32615.10</td>\n",
       "      <td>32646.75</td>\n",
       "      <td>89825</td>\n",
       "      <td>-8.25</td>\n",
       "      <td>NaN</td>\n",
       "      <td>10</td>\n",
       "      <td>30</td>\n",
       "      <td>12:00 AM</td>\n",
       "      <td>False</td>\n",
       "    </tr>\n",
       "    <tr>\n",
       "      <th>273</th>\n",
       "      <td>6/17/2022</td>\n",
       "      <td>10:45:00</td>\n",
       "      <td>32655.00</td>\n",
       "      <td>32792.85</td>\n",
       "      <td>32633.00</td>\n",
       "      <td>32706.90</td>\n",
       "      <td>124325</td>\n",
       "      <td>4.90</td>\n",
       "      <td>NaN</td>\n",
       "      <td>10</td>\n",
       "      <td>45</td>\n",
       "      <td>12:00 AM</td>\n",
       "      <td>False</td>\n",
       "    </tr>\n",
       "    <tr>\n",
       "      <th>274</th>\n",
       "      <td>6/17/2022</td>\n",
       "      <td>11:00:00</td>\n",
       "      <td>32702.00</td>\n",
       "      <td>32758.05</td>\n",
       "      <td>32660.00</td>\n",
       "      <td>32723.95</td>\n",
       "      <td>61300</td>\n",
       "      <td>-4.35</td>\n",
       "      <td>NaN</td>\n",
       "      <td>11</td>\n",
       "      <td>0</td>\n",
       "      <td>12:00 AM</td>\n",
       "      <td>False</td>\n",
       "    </tr>\n",
       "    <tr>\n",
       "      <th>275</th>\n",
       "      <td>6/17/2022</td>\n",
       "      <td>11:15:00</td>\n",
       "      <td>32728.30</td>\n",
       "      <td>32771.00</td>\n",
       "      <td>32676.95</td>\n",
       "      <td>32715.00</td>\n",
       "      <td>71275</td>\n",
       "      <td>-0.05</td>\n",
       "      <td>NaN</td>\n",
       "      <td>11</td>\n",
       "      <td>15</td>\n",
       "      <td>12:00 AM</td>\n",
       "      <td>False</td>\n",
       "    </tr>\n",
       "    <tr>\n",
       "      <th>276</th>\n",
       "      <td>6/17/2022</td>\n",
       "      <td>11:30:00</td>\n",
       "      <td>32715.05</td>\n",
       "      <td>32768.15</td>\n",
       "      <td>32645.75</td>\n",
       "      <td>32667.70</td>\n",
       "      <td>69375</td>\n",
       "      <td>32667.70</td>\n",
       "      <td>NaN</td>\n",
       "      <td>11</td>\n",
       "      <td>30</td>\n",
       "      <td>12:00 AM</td>\n",
       "      <td>False</td>\n",
       "    </tr>\n",
       "  </tbody>\n",
       "</table>\n",
       "<p>277 rows × 13 columns</p>\n",
       "</div>"
      ],
      "text/plain": [
       "          Date      Time      Open      High       Low     Close  Volume  \\\n",
       "0     6/2/2022  12:00:00  35571.20  35612.00  35543.50  35562.00   52975   \n",
       "1     6/2/2022  12:15:00  35562.00  35589.00  35539.70  35551.60   56575   \n",
       "2     6/2/2022  12:30:00  35555.70  35623.45  35545.05  35595.00   71075   \n",
       "3     6/2/2022  12:45:00  35603.00  35675.00  35570.00  35600.00  113375   \n",
       "4     6/2/2022  13:00:00  35603.55  35627.60  35570.40  35610.00   51825   \n",
       "..         ...       ...       ...       ...       ...       ...     ...   \n",
       "272  6/17/2022  10:30:00  32635.00  32694.45  32615.10  32646.75   89825   \n",
       "273  6/17/2022  10:45:00  32655.00  32792.85  32633.00  32706.90  124325   \n",
       "274  6/17/2022  11:00:00  32702.00  32758.05  32660.00  32723.95   61300   \n",
       "275  6/17/2022  11:15:00  32728.30  32771.00  32676.95  32715.00   71275   \n",
       "276  6/17/2022  11:30:00  32715.05  32768.15  32645.75  32667.70   69375   \n",
       "\n",
       "     Close-Open  Unnamed: 10  Hour  Minute     AM/PM  Consider  \n",
       "0          0.00          NaN    12       0  12:00 PM     False  \n",
       "1         -4.10          NaN    12      15  12:00 PM      True  \n",
       "2         -8.00          NaN    12      30  12:00 PM      True  \n",
       "3         -3.55          NaN    12      45  12:00 PM      True  \n",
       "4          3.90          NaN     1       0  12:00 PM     False  \n",
       "..          ...          ...   ...     ...       ...       ...  \n",
       "272       -8.25          NaN    10      30  12:00 AM     False  \n",
       "273        4.90          NaN    10      45  12:00 AM     False  \n",
       "274       -4.35          NaN    11       0  12:00 AM     False  \n",
       "275       -0.05          NaN    11      15  12:00 AM     False  \n",
       "276    32667.70          NaN    11      30  12:00 AM     False  \n",
       "\n",
       "[277 rows x 13 columns]"
      ]
     },
     "execution_count": 156,
     "metadata": {},
     "output_type": "execute_result"
    }
   ],
   "source": [
    "import pandas as pd\n",
    "import matplotlib.pyplot as plt\n",
    "from six import StringIO\n",
    "import numpy as np\n",
    "import seaborn as sns\n",
    "%matplotlib inline\n",
    "from sklearn import tree\n",
    "import six\n",
    "import sys\n",
    "sys.modules['sklearn.externals.six'] = six\n",
    "df = pd.read_csv(\"C:\\\\Users\\\\reauter\\\\Documents\\\\Data_Binning.csv\")\n",
    "#df.columns = [\"Full_Code\",\"Name\", \"Code\",\"L.Trade\", \"Bid Vol\",\"Bid\",\"Ask\",\"Ask Vol\",\"Volume\",\"High\",\"Low\",\"P.Close\",\"+/- %\"]\n",
    "df.drop(df.columns[8:10], axis=1, inplace=True)\n",
    "df"
   ]
  },
  {
   "cell_type": "code",
   "execution_count": 157,
   "id": "79ddb2c4",
   "metadata": {},
   "outputs": [
    {
     "name": "stdout",
     "output_type": "stream",
     "text": [
      "Date             0\n",
      "Time             0\n",
      "Open             0\n",
      "High             0\n",
      "Low              0\n",
      "Close            0\n",
      "Volume           0\n",
      "Close-Open       0\n",
      "Unnamed: 10    277\n",
      "Hour             0\n",
      "Minute           0\n",
      "AM/PM            0\n",
      "Consider         0\n",
      "dtype: int64\n",
      "Date            object\n",
      "Time            object\n",
      "Open           float64\n",
      "High           float64\n",
      "Low            float64\n",
      "Close          float64\n",
      "Volume           int64\n",
      "Close-Open     float64\n",
      "Unnamed: 10    float64\n",
      "Hour             int64\n",
      "Minute           int64\n",
      "AM/PM           object\n",
      "Consider          bool\n",
      "dtype: object\n"
     ]
    }
   ],
   "source": [
    "#To get information about null values. \n",
    "#If the zero values are low, they must be discarded\n",
    "print(df.isnull().sum())\n",
    "#It is necessary to study the data types of data columns.\n",
    "#Understanding data types ensures that data is collected \n",
    "#in the preferred format and the value of each property is as expected.\n",
    "print(df.dtypes)"
   ]
  },
  {
   "cell_type": "code",
   "execution_count": 158,
   "id": "6d38a24c",
   "metadata": {},
   "outputs": [],
   "source": [
    "#It is clear that the \"Expire Date\" column is given as objects instead of date format\n",
    "df[\"Date\"] = pd.to_datetime(df[\"Date\"], dayfirst = True).dt.date\n",
    "#Now we need to divide the Expire Date column into columns by years and months. \n",
    "#It is importanat step cause entire date is based upon year 2021\n",
    "#If we divide the date into year and month we can nalyse the change in data on the basis of month\n",
    "df[\"Year\"]=pd.to_datetime(df[\"Date\"]).dt.year\n",
    "df[\"Month\"]=pd.to_datetime(df[\"Date\"]).dt.month"
   ]
  },
  {
   "cell_type": "code",
   "execution_count": 159,
   "id": "c47ae779",
   "metadata": {},
   "outputs": [
    {
     "data": {
      "text/plain": [
       "0      2022\n",
       "1      2022\n",
       "2      2022\n",
       "3      2022\n",
       "4      2022\n",
       "       ... \n",
       "272    2022\n",
       "273    2022\n",
       "274    2022\n",
       "275    2022\n",
       "276    2022\n",
       "Name: Year, Length: 277, dtype: int64"
      ]
     },
     "execution_count": 159,
     "metadata": {},
     "output_type": "execute_result"
    }
   ],
   "source": [
    "df[\"Year\"]"
   ]
  },
  {
   "cell_type": "code",
   "execution_count": 160,
   "id": "d5375498",
   "metadata": {},
   "outputs": [
    {
     "data": {
      "text/plain": [
       "0      2\n",
       "1      2\n",
       "2      2\n",
       "3      2\n",
       "4      2\n",
       "      ..\n",
       "272    6\n",
       "273    6\n",
       "274    6\n",
       "275    6\n",
       "276    6\n",
       "Name: Month, Length: 277, dtype: int64"
      ]
     },
     "execution_count": 160,
     "metadata": {},
     "output_type": "execute_result"
    }
   ],
   "source": [
    "df[\"Month\"]"
   ]
  },
  {
   "cell_type": "code",
   "execution_count": 161,
   "id": "a97e28f8",
   "metadata": {},
   "outputs": [
    {
     "name": "stdout",
     "output_type": "stream",
     "text": [
      "Month\n",
      "2     35626.530000\n",
      "3     35684.986000\n",
      "6     33693.637132\n",
      "7     35062.376923\n",
      "8     35182.572000\n",
      "9     34914.006000\n",
      "10    34591.600000\n",
      "Name: Close, dtype: float64\n"
     ]
    },
    {
     "data": {
      "image/png": "[encoded data removed]",
      "text/plain": [
       "<Figure size 432x288 with 1 Axes>"
      ]
     },
     "metadata": {
      "needs_background": "light"
     },
     "output_type": "display_data"
    }
   ],
   "source": [
    "print(df.groupby(\"Month\")[\"Close\"].mean())\n",
    "monthmean=df.groupby(\"Month\")[\"Close\"].mean().reset_index()\n",
    "datamonth=monthmean.set_index(\"Month\")\n",
    "sns.lineplot(data=datamonth)\n",
    "plt.xlabel=\"Month\"\n",
    "plt.ylabel=\"Close\"\n",
    "plt.title=(\"Average Close by months\")\n",
    "plt.show()"
   ]
  },
  {
   "cell_type": "code",
   "execution_count": 162,
   "id": "4e5b67c6",
   "metadata": {},
   "outputs": [
    {
     "name": "stdout",
     "output_type": "stream",
     "text": [
      "Date\n",
      "2022-02-06    35626.530000\n",
      "2022-03-06    35684.986000\n",
      "2022-06-06    35376.432692\n",
      "2022-06-13    33380.750000\n",
      "2022-06-14    33432.718000\n",
      "2022-06-15    33447.356000\n",
      "2022-06-16    33140.502000\n",
      "2022-06-17    32681.500000\n",
      "2022-07-06    35062.376923\n",
      "2022-08-06    35182.572000\n",
      "2022-09-06    34914.006000\n",
      "2022-10-06    34591.600000\n",
      "Name: Close, dtype: float64\n"
     ]
    },
    {
     "data": {
      "image/png": "[encoded data removed]",
      "text/plain": [
       "<Figure size 432x288 with 1 Axes>"
      ]
     },
     "metadata": {
      "needs_background": "light"
     },
     "output_type": "display_data"
    }
   ],
   "source": [
    "print(df.groupby(\"Date\")[\"Close\"].mean())\n",
    "monthmean=df.groupby(\"Date\")[\"Close\"].mean().reset_index()\n",
    "datamonth=monthmean.set_index(\"Date\")\n",
    "sns.lineplot(data=datamonth)\n",
    "plt.xlabel=\"Date\"\n",
    "plt.ylabel=\"Close\"\n",
    "plt.title=(\"Average Close by date\")\n",
    "plt.show()"
   ]
  },
  {
   "cell_type": "code",
   "execution_count": 163,
   "id": "eac81f92",
   "metadata": {},
   "outputs": [
    {
     "name": "stdout",
     "output_type": "stream",
     "text": [
      "32413.65\n",
      "35912.2\n"
     ]
    }
   ],
   "source": [
    "#Binning by distance\n",
    "min_value = df['Close'].min()\n",
    "max_value = df['Close'].max()\n",
    "print(min_value)\n",
    "print(max_value)"
   ]
  },
  {
   "cell_type": "code",
   "execution_count": 164,
   "id": "67d8a24b",
   "metadata": {},
   "outputs": [
    {
     "data": {
      "text/plain": [
       "array([32413.65      , 33579.83333333, 34746.01666667, 35912.2       ])"
      ]
     },
     "execution_count": 164,
     "metadata": {},
     "output_type": "execute_result"
    }
   ],
   "source": [
    "'''\n",
    "Now we can calculate the range of each interval, i.e. the minimum and maximum value of each interval.\n",
    "Since we have 3 groups, we need 4 edges of intervals (bins):\n",
    "\n",
    "small — (edge1, edge2)\n",
    "medium — (edge2, edge3)\n",
    "big — (edge3, edge4)\n",
    "'''\n",
    "#We can use the linspace() function of the numpy package to calculate the 4 bins, equally distributed.\n",
    "import numpy as np\n",
    "bins = np.linspace(min_value,max_value,4)\n",
    "bins"
   ]
  },
  {
   "cell_type": "code",
   "execution_count": 165,
   "id": "43e831c8",
   "metadata": {},
   "outputs": [],
   "source": [
    "labels = ['small', 'medium', 'big']"
   ]
  },
  {
   "cell_type": "code",
   "execution_count": 166,
   "id": "ab06341a",
   "metadata": {},
   "outputs": [],
   "source": [
    "df['bins'] = pd.cut(df['Close'], bins=bins, labels=labels, include_lowest=True)"
   ]
  },
  {
   "cell_type": "code",
   "execution_count": 167,
   "id": "f0e13e8a",
   "metadata": {},
   "outputs": [
    {
     "data": {
      "text/plain": [
       "(array([142.,  34., 101.]),\n",
       " array([0.        , 0.66666667, 1.33333333, 2.        ]),\n",
       " <BarContainer object of 3 artists>)"
      ]
     },
     "execution_count": 167,
     "metadata": {},
     "output_type": "execute_result"
    },
    {
     "data": {
      "image/png": "[encoded data removed]",
      "text/plain": [
       "<Figure size 432x288 with 1 Axes>"
      ]
     },
     "metadata": {
      "needs_background": "light"
     },
     "output_type": "display_data"
    }
   ],
   "source": [
    "import matplotlib.pyplot as plt\n",
    "plt.hist(df['bins'], bins=3)"
   ]
  },
  {
   "cell_type": "code",
   "execution_count": 168,
   "id": "d99caf71",
   "metadata": {},
   "outputs": [
    {
     "name": "stdout",
     "output_type": "stream",
     "text": [
      "           Date      Time      Open      High       Low     Close  Volume  \\\n",
      "0    2022-02-06  12:00:00  35571.20  35612.00  35543.50  35562.00   52975   \n",
      "1    2022-02-06  12:15:00  35562.00  35589.00  35539.70  35551.60   56575   \n",
      "2    2022-02-06  12:30:00  35555.70  35623.45  35545.05  35595.00   71075   \n",
      "3    2022-02-06  12:45:00  35603.00  35675.00  35570.00  35600.00  113375   \n",
      "4    2022-02-06  13:00:00  35603.55  35627.60  35570.40  35610.00   51825   \n",
      "..          ...       ...       ...       ...       ...       ...     ...   \n",
      "272  2022-06-17  10:30:00  32635.00  32694.45  32615.10  32646.75   89825   \n",
      "273  2022-06-17  10:45:00  32655.00  32792.85  32633.00  32706.90  124325   \n",
      "274  2022-06-17  11:00:00  32702.00  32758.05  32660.00  32723.95   61300   \n",
      "275  2022-06-17  11:15:00  32728.30  32771.00  32676.95  32715.00   71275   \n",
      "276  2022-06-17  11:30:00  32715.05  32768.15  32645.75  32667.70   69375   \n",
      "\n",
      "     Close-Open  Unnamed: 10  Hour  Minute     AM/PM  Consider  Year  Month  \\\n",
      "0          0.00          NaN    12       0  12:00 PM     False  2022      2   \n",
      "1         -4.10          NaN    12      15  12:00 PM      True  2022      2   \n",
      "2         -8.00          NaN    12      30  12:00 PM      True  2022      2   \n",
      "3         -3.55          NaN    12      45  12:00 PM      True  2022      2   \n",
      "4          3.90          NaN     1       0  12:00 PM     False  2022      2   \n",
      "..          ...          ...   ...     ...       ...       ...   ...    ...   \n",
      "272       -8.25          NaN    10      30  12:00 AM     False  2022      6   \n",
      "273        4.90          NaN    10      45  12:00 AM     False  2022      6   \n",
      "274       -4.35          NaN    11       0  12:00 AM     False  2022      6   \n",
      "275       -0.05          NaN    11      15  12:00 AM     False  2022      6   \n",
      "276    32667.70          NaN    11      30  12:00 AM     False  2022      6   \n",
      "\n",
      "      bins  hour  \n",
      "0      big    12  \n",
      "1      big    12  \n",
      "2      big    12  \n",
      "3      big    12  \n",
      "4      big    13  \n",
      "..     ...   ...  \n",
      "272  small    10  \n",
      "273  small    10  \n",
      "274  small    11  \n",
      "275  small    11  \n",
      "276  small    11  \n",
      "\n",
      "[277 rows x 17 columns]\n"
     ]
    }
   ],
   "source": [
    "df['hour'] = pd.to_datetime(df['Time'], format='%H:%M:%S').dt.hour\n",
    "print (df)"
   ]
  },
  {
   "cell_type": "code",
   "execution_count": 169,
   "id": "67b49d3b",
   "metadata": {},
   "outputs": [
    {
     "data": {
      "text/plain": [
       "0     12\n",
       "1     12\n",
       "2     12\n",
       "3     12\n",
       "4     13\n",
       "5     13\n",
       "6     13\n",
       "7     13\n",
       "8     14\n",
       "9     14\n",
       "10    14\n",
       "11    14\n",
       "12    15\n",
       "13    15\n",
       "14    15\n",
       "15     9\n",
       "16     9\n",
       "17    10\n",
       "18    10\n",
       "19    10\n",
       "Name: hour, dtype: int64"
      ]
     },
     "execution_count": 169,
     "metadata": {},
     "output_type": "execute_result"
    }
   ],
   "source": [
    "df['hour'].head(20)"
   ]
  },
  {
   "cell_type": "code",
   "execution_count": 170,
   "id": "b50e68fa",
   "metadata": {},
   "outputs": [
    {
     "data": {
      "text/plain": [
       "\"\\nwriter = pd.ExcelWriter('Data_Binning2.xlsx') \\n\\ndf.to_excel(writer, sheet_name='Data_Binning2', header=None, index=False,\\n         startcol=1, startrow=2)\\n\""
      ]
     },
     "execution_count": 170,
     "metadata": {},
     "output_type": "execute_result"
    }
   ],
   "source": [
    "'''\n",
    "writer = pd.ExcelWriter('Data_Binning2.xlsx') \n",
    "\n",
    "df.to_excel(writer, sheet_name='Data_Binning2', header=None, index=False,\n",
    "         startcol=1, startrow=2)\n",
    "'''"
   ]
  },
  {
   "cell_type": "code",
   "execution_count": 171,
   "id": "cb368b91",
   "metadata": {},
   "outputs": [
    {
     "data": {
      "text/plain": [
       "\"\\nwith pd.ExcelWriter('Data_Binning2.xlsx') as writer:\\n    df.to_excel(writer, sheet_name='Sheet1')\\n\""
      ]
     },
     "execution_count": 171,
     "metadata": {},
     "output_type": "execute_result"
    }
   ],
   "source": [
    "'''\n",
    "with pd.ExcelWriter('Data_Binning2.xlsx') as writer:\n",
    "    df.to_excel(writer, sheet_name='Sheet1')\n",
    "'''"
   ]
  },
  {
   "cell_type": "code",
   "execution_count": 172,
   "id": "74015c3f",
   "metadata": {},
   "outputs": [
    {
     "name": "stdout",
     "output_type": "stream",
     "text": [
      "hour\n",
      "9     34289.752273\n",
      "10    34326.401136\n",
      "11    34364.802326\n",
      "12    34568.305682\n",
      "13    34495.497727\n",
      "14    34443.965909\n",
      "15    34469.970833\n",
      "Name: Close, dtype: float64\n"
     ]
    },
    {
     "data": {
      "image/png": "[encoded data removed]",
      "text/plain": [
       "<Figure size 432x288 with 1 Axes>"
      ]
     },
     "metadata": {
      "needs_background": "light"
     },
     "output_type": "display_data"
    }
   ],
   "source": [
    "print(df.groupby(\"hour\")[\"Close\"].mean())\n",
    "monthmean=df.groupby(\"hour\")[\"Close\"].mean().reset_index()\n",
    "datamonth=monthmean.set_index(\"hour\")\n",
    "sns.lineplot(data=datamonth)\n",
    "plt.xlabel=\"hour\"\n",
    "plt.ylabel=\"Close\"\n",
    "plt.title=(\"Average Close by hour\")\n",
    "plt.show()"
   ]
  },
  {
   "cell_type": "code",
   "execution_count": 173,
   "id": "86b74ed0",
   "metadata": {},
   "outputs": [
    {
     "name": "stdout",
     "output_type": "stream",
     "text": [
      "hour\n",
      "9       2.525000\n",
      "10      0.163636\n",
      "11    760.090698\n",
      "12      0.643182\n",
      "13      1.887500\n",
      "14     -0.736364\n",
      "15     28.990278\n",
      "Name: Close-Open, dtype: float64\n"
     ]
    },
    {
     "data": {
      "image/png": "[encoded data removed]",
      "text/plain": [
       "<Figure size 432x288 with 1 Axes>"
      ]
     },
     "metadata": {
      "needs_background": "light"
     },
     "output_type": "display_data"
    }
   ],
   "source": [
    "print(df.groupby(\"hour\")[\"Close-Open\"].mean())\n",
    "monthmean=df.groupby(\"hour\")[\"Close-Open\"].mean().reset_index()\n",
    "datamonth=monthmean.set_index(\"hour\")\n",
    "sns.lineplot(data=datamonth)\n",
    "plt.xlabel=\"hour\"\n",
    "plt.ylabel=\"Close-Open\"\n",
    "plt.title=(\"Average Close-Open by hour\")\n",
    "plt.show()"
   ]
  },
  {
   "cell_type": "code",
   "execution_count": 174,
   "id": "3fdbac75",
   "metadata": {},
   "outputs": [],
   "source": [
    "df.loc[df['Close-Open'] <= abs(100), '<= 0'] = 'False'\n",
    "df.loc[df['Close-Open'] > abs(100), '<= 0'] = 'True'"
   ]
  },
  {
   "cell_type": "code",
   "execution_count": 175,
   "id": "ef7229c2",
   "metadata": {},
   "outputs": [
    {
     "name": "stdout",
     "output_type": "stream",
     "text": [
      "           Date      Time      Open      High       Low     Close  Volume  \\\n",
      "0    2022-02-06  12:00:00  35571.20  35612.00  35543.50  35562.00   52975   \n",
      "1    2022-02-06  12:15:00  35562.00  35589.00  35539.70  35551.60   56575   \n",
      "2    2022-02-06  12:30:00  35555.70  35623.45  35545.05  35595.00   71075   \n",
      "3    2022-02-06  12:45:00  35603.00  35675.00  35570.00  35600.00  113375   \n",
      "4    2022-02-06  13:00:00  35603.55  35627.60  35570.40  35610.00   51825   \n",
      "..          ...       ...       ...       ...       ...       ...     ...   \n",
      "272  2022-06-17  10:30:00  32635.00  32694.45  32615.10  32646.75   89825   \n",
      "273  2022-06-17  10:45:00  32655.00  32792.85  32633.00  32706.90  124325   \n",
      "274  2022-06-17  11:00:00  32702.00  32758.05  32660.00  32723.95   61300   \n",
      "275  2022-06-17  11:15:00  32728.30  32771.00  32676.95  32715.00   71275   \n",
      "276  2022-06-17  11:30:00  32715.05  32768.15  32645.75  32667.70   69375   \n",
      "\n",
      "     Close-Open  Unnamed: 10  Hour  Minute     AM/PM  Consider  Year  Month  \\\n",
      "0          0.00          NaN    12       0  12:00 PM     False  2022      2   \n",
      "1         -4.10          NaN    12      15  12:00 PM      True  2022      2   \n",
      "2         -8.00          NaN    12      30  12:00 PM      True  2022      2   \n",
      "3         -3.55          NaN    12      45  12:00 PM      True  2022      2   \n",
      "4          3.90          NaN     1       0  12:00 PM     False  2022      2   \n",
      "..          ...          ...   ...     ...       ...       ...   ...    ...   \n",
      "272       -8.25          NaN    10      30  12:00 AM     False  2022      6   \n",
      "273        4.90          NaN    10      45  12:00 AM     False  2022      6   \n",
      "274       -4.35          NaN    11       0  12:00 AM     False  2022      6   \n",
      "275       -0.05          NaN    11      15  12:00 AM     False  2022      6   \n",
      "276    32667.70          NaN    11      30  12:00 AM     False  2022      6   \n",
      "\n",
      "      bins  hour   <= 0  \n",
      "0      big    12  False  \n",
      "1      big    12  False  \n",
      "2      big    12  False  \n",
      "3      big    12  False  \n",
      "4      big    13  False  \n",
      "..     ...   ...    ...  \n",
      "272  small    10  False  \n",
      "273  small    10  False  \n",
      "274  small    11  False  \n",
      "275  small    11  False  \n",
      "276  small    11   True  \n",
      "\n",
      "[277 rows x 18 columns]\n"
     ]
    }
   ],
   "source": [
    "print(df)"
   ]
  },
  {
   "cell_type": "code",
   "execution_count": 176,
   "id": "4b10abbb",
   "metadata": {},
   "outputs": [],
   "source": [
    "df.to_csv('Data_Binning.csv', mode='a', index=False, header=False)"
   ]
  },
  {
   "cell_type": "code",
   "execution_count": 177,
   "id": "4eb5e5a8",
   "metadata": {},
   "outputs": [
    {
     "name": "stdout",
     "output_type": "stream",
     "text": [
      "           Date      Time      Open      High       Low     Close  Volume  \\\n",
      "0    2022-02-06  12:00:00  35571.20  35612.00  35543.50  35562.00   52975   \n",
      "1    2022-02-06  12:15:00  35562.00  35589.00  35539.70  35551.60   56575   \n",
      "2    2022-02-06  12:30:00  35555.70  35623.45  35545.05  35595.00   71075   \n",
      "3    2022-02-06  12:45:00  35603.00  35675.00  35570.00  35600.00  113375   \n",
      "4    2022-02-06  13:00:00  35603.55  35627.60  35570.40  35610.00   51825   \n",
      "..          ...       ...       ...       ...       ...       ...     ...   \n",
      "272  2022-06-17  10:30:00  32635.00  32694.45  32615.10  32646.75   89825   \n",
      "273  2022-06-17  10:45:00  32655.00  32792.85  32633.00  32706.90  124325   \n",
      "274  2022-06-17  11:00:00  32702.00  32758.05  32660.00  32723.95   61300   \n",
      "275  2022-06-17  11:15:00  32728.30  32771.00  32676.95  32715.00   71275   \n",
      "276  2022-06-17  11:30:00  32715.05  32768.15  32645.75  32667.70   69375   \n",
      "\n",
      "     Close-Open  Unnamed: 10  Hour  Minute     AM/PM  Consider  Year  Month  \\\n",
      "0          0.00          NaN    12       0  12:00 PM     False  2022      2   \n",
      "1         -4.10          NaN    12      15  12:00 PM      True  2022      2   \n",
      "2         -8.00          NaN    12      30  12:00 PM      True  2022      2   \n",
      "3         -3.55          NaN    12      45  12:00 PM      True  2022      2   \n",
      "4          3.90          NaN     1       0  12:00 PM     False  2022      2   \n",
      "..          ...          ...   ...     ...       ...       ...   ...    ...   \n",
      "272       -8.25          NaN    10      30  12:00 AM     False  2022      6   \n",
      "273        4.90          NaN    10      45  12:00 AM     False  2022      6   \n",
      "274       -4.35          NaN    11       0  12:00 AM     False  2022      6   \n",
      "275       -0.05          NaN    11      15  12:00 AM     False  2022      6   \n",
      "276    32667.70          NaN    11      30  12:00 AM     False  2022      6   \n",
      "\n",
      "      bins  hour   <= 0 Status  \n",
      "0      big    12  False    NaN  \n",
      "1      big    12  False    NaN  \n",
      "2      big    12  False    NaN  \n",
      "3      big    12  False    NaN  \n",
      "4      big    13  False    NaN  \n",
      "..     ...   ...    ...    ...  \n",
      "272  small    10  False    NaN  \n",
      "273  small    10  False    NaN  \n",
      "274  small    11  False    NaN  \n",
      "275  small    11  False    NaN  \n",
      "276  small    11   True    NaN  \n",
      "\n",
      "[277 rows x 19 columns]\n"
     ]
    }
   ],
   "source": [
    "\n",
    "#df.loc[(df['<= 0'] == 'TRUE') | (df['First_name'] == 'Jay'), 'Status'] = 'Found' \n",
    "df.loc[(df['<= 0'] == 'TRUE') & (df['Time'] == '3:30:00 PM'), 'Status'] = 'Found' \n",
    " \n",
    "print (df)"
   ]
  },
  {
   "cell_type": "code",
   "execution_count": 178,
   "id": "3fc5b8b4",
   "metadata": {},
   "outputs": [
    {
     "data": {
      "text/html": [
       "<div>\n",
       "<style scoped>\n",
       "    .dataframe tbody tr th:only-of-type {\n",
       "        vertical-align: middle;\n",
       "    }\n",
       "\n",
       "    .dataframe tbody tr th {\n",
       "        vertical-align: top;\n",
       "    }\n",
       "\n",
       "    .dataframe thead th {\n",
       "        text-align: right;\n",
       "    }\n",
       "</style>\n",
       "<table border=\"1\" class=\"dataframe\">\n",
       "  <thead>\n",
       "    <tr style=\"text-align: right;\">\n",
       "      <th></th>\n",
       "      <th>Date</th>\n",
       "      <th>Time</th>\n",
       "      <th>Open</th>\n",
       "      <th>High</th>\n",
       "      <th>Low</th>\n",
       "      <th>Close</th>\n",
       "      <th>Volume</th>\n",
       "      <th>Close-Open</th>\n",
       "      <th>Unnamed: 10</th>\n",
       "      <th>Hour</th>\n",
       "      <th>Minute</th>\n",
       "      <th>AM/PM</th>\n",
       "      <th>Consider</th>\n",
       "      <th>Year</th>\n",
       "      <th>Month</th>\n",
       "      <th>bins</th>\n",
       "      <th>hour</th>\n",
       "      <th>&lt;= 0</th>\n",
       "      <th>Status</th>\n",
       "    </tr>\n",
       "  </thead>\n",
       "  <tbody>\n",
       "  </tbody>\n",
       "</table>\n",
       "</div>"
      ],
      "text/plain": [
       "Empty DataFrame\n",
       "Columns: [Date, Time, Open, High, Low, Close, Volume, Close-Open, Unnamed: 10, Hour, Minute, AM/PM, Consider, Year, Month, bins, hour, <= 0, Status]\n",
       "Index: []"
      ]
     },
     "execution_count": 178,
     "metadata": {},
     "output_type": "execute_result"
    }
   ],
   "source": [
    "df[df.Status == 'Found']"
   ]
  },
  {
   "cell_type": "code",
   "execution_count": 179,
   "id": "419bcb34",
   "metadata": {},
   "outputs": [],
   "source": [
    "#Binning by Frequency\n",
    "df['bin_qcut'] = pd.qcut(df['Close'], q=3, precision=1, labels=labels)\n"
   ]
  },
  {
   "cell_type": "code",
   "execution_count": 188,
   "id": "74bdb65b",
   "metadata": {},
   "outputs": [],
   "source": [
    "#Sampling\n",
    "'''\n",
    "Sampling is another technique of data binning. \n",
    "It permits to reduce the number of samples, by grouping similar values or contiguous values.\n",
    "There are three approaches to perform sampling:\n",
    "by bin means: each value in a bin is replaced by the mean value of the bin.\n",
    "by bin median: each bin value is replaced by its bin median value.\n",
    "by bin boundary: each bin value is replaced by the closest boundary value, i.e. maximum or minimum value of the bin.\n",
    "'''\n",
    "'''\n",
    "In order to perform sampling, the binned_statistic() function of the scipy.stats package can be used. \n",
    "This function receives two arrays as input, x_data and y_data,\n",
    "as well as the statistics to be used (e.g. median or mean) and the number of bins to be created. \n",
    "The function returns the values of the bins as well as the edges of each bin.\n",
    "'''\n",
    "from scipy.stats import binned_statistic\n",
    "x_data = np.arange(0,len(df))\n",
    "#numpy.arange([start, ]stop, [step, ], dtype=None)\n",
    "y_data = df['Close']\n",
    "x_bins,bin_edges, misc = binned_statistic(y_data,x_data, statistic=\"median\", bins=len(bins))"
   ]
  },
  {
   "cell_type": "code",
   "execution_count": 189,
   "id": "25aacd09",
   "metadata": {},
   "outputs": [],
   "source": [
    "'''\n",
    "Now we should approximate each value of the df['Close'] column to the median value of the corresponding bin. \n",
    "Thus we convert the bin edges to an IntervalIndex, which receives as index the left and right edges of each interval.\n",
    "In our case, the left edges starts from the beginning of the bin edges and do not contain the last value of the bin edges. \n",
    "The right edges instead, start from the second value of the bin edges and last until the last value.\n",
    "'''\n",
    "bin_intervals = pd.IntervalIndex.from_arrays(bin_edges[:-1], bin_edges[1:])"
   ]
  },
  {
   "cell_type": "code",
   "execution_count": 190,
   "id": "7189d949",
   "metadata": {},
   "outputs": [],
   "source": [
    "'''\n",
    "We can quantise the Close column by defining a set_to_median() function \n",
    "which loops through the intervals and when it finds the correct interval, \n",
    "it returns the mid value.\n",
    "'''\n",
    "def set_to_median(x, bin_intervals):\n",
    "    for interval in bin_intervals:\n",
    "        if x in interval:\n",
    "            return interval.mid\n"
   ]
  },
  {
   "cell_type": "code",
   "execution_count": 191,
   "id": "cd93c49b",
   "metadata": {},
   "outputs": [],
   "source": [
    "'''\n",
    "We use the apply() function to apply the set_to_median() to the Close column.\n",
    "'''\n",
    "df['sampled_close'] = df['Close'].apply(lambda x: set_to_median(x, bin_intervals))\n"
   ]
  },
  {
   "cell_type": "code",
   "execution_count": 192,
   "id": "a4a6f318",
   "metadata": {},
   "outputs": [
    {
     "data": {
      "image/png": "[encoded data removed]",
      "text/plain": [
       "<Figure size 432x288 with 1 Axes>"
      ]
     },
     "metadata": {
      "needs_background": "light"
     },
     "output_type": "display_data"
    }
   ],
   "source": [
    "#Now we can plot results. We note the loss of information.\n",
    "plt.plot(df['Close'], label='original')\n",
    "plt.plot(df['sampled_close'], color='red', label='sampled')\n",
    "plt.legend()\n",
    "plt.show()"
   ]
  },
  {
   "cell_type": "code",
   "execution_count": 193,
   "id": "2a13c94b",
   "metadata": {},
   "outputs": [
    {
     "data": {
      "text/plain": [
       "array([32850.96875, 33725.60625, 34600.24375, 35474.88125])"
      ]
     },
     "execution_count": 193,
     "metadata": {},
     "output_type": "execute_result"
    }
   ],
   "source": [
    "'''\n",
    "Finally, we can plot the median values.\n",
    "We can calculate the y values (y_bins) corresponding to the binned values (x_bins)\n",
    "as the values at the center of the bin range.\n",
    "'''\n",
    "y_bins = (bin_edges[:-1]+bin_edges[1:])/2\n",
    "y_bins\n"
   ]
  },
  {
   "cell_type": "code",
   "execution_count": 194,
   "id": "ae16128e",
   "metadata": {},
   "outputs": [
    {
     "data": {
      "image/png": "[encoded data removed]",
      "text/plain": [
       "<Figure size 432x288 with 1 Axes>"
      ]
     },
     "metadata": {
      "needs_background": "light"
     },
     "output_type": "display_data"
    }
   ],
   "source": [
    "plt.plot(x_data,y_data)\n",
    "plt.scatter(x_bins, y_bins,  color= 'red',linewidth=5)\n",
    "plt.show()"
   ]
  },
  {
   "cell_type": "code",
   "execution_count": 195,
   "id": "fac23524",
   "metadata": {},
   "outputs": [
    {
     "data": {
      "text/plain": [
       "0      35474.88125\n",
       "1      35474.88125\n",
       "2      35474.88125\n",
       "3      35474.88125\n",
       "4      35474.88125\n",
       "          ...     \n",
       "272    32850.96875\n",
       "273    32850.96875\n",
       "274    32850.96875\n",
       "275    32850.96875\n",
       "276    32850.96875\n",
       "Name: sampled_close, Length: 277, dtype: float64"
      ]
     },
     "execution_count": 195,
     "metadata": {},
     "output_type": "execute_result"
    }
   ],
   "source": [
    "df['sampled_close']"
   ]
  },
  {
   "cell_type": "code",
   "execution_count": null,
   "id": "46cdda3b",
   "metadata": {},
   "outputs": [],
   "source": [
    "#we can interpret from the above graph is that the median values of the Close values is 32850.96875, 33725.60625,\n",
    "#34600.24375, 35474.88125 \n",
    "#if we segregate the values in four sections"
   ]
  },
  {
   "cell_type": "code",
   "execution_count": null,
   "id": "59f048bc",
   "metadata": {},
   "outputs": [],
   "source": []
  },
  {
   "cell_type": "code",
   "execution_count": null,
   "id": "6b6e4b83",
   "metadata": {},
   "outputs": [],
   "source": []
  },
  {
   "cell_type": "code",
   "execution_count": null,
   "id": "da843144",
   "metadata": {},
   "outputs": [],
   "source": []
  }
 ],
 "metadata": {
  "kernelspec": {
   "display_name": "Python 3 (ipykernel)",
   "language": "python",
   "name": "python3"
  },
  "language_info": {
   "codemirror_mode": {
    "name": "ipython",
    "version": 3
   },
   "file_extension": ".py",
   "mimetype": "text/x-python",
   "name": "python",
   "nbconvert_exporter": "python",
   "pygments_lexer": "ipython3",
   "version": "3.9.7"
  }
 },
 "nbformat": 4,
 "nbformat_minor": 5
}
