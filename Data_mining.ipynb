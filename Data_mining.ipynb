{
 "cells": [
  {
   "cell_type": "code",
   "execution_count": 84,
   "id": "a426e187",
   "metadata": {},
   "outputs": [
    {
     "data": {
      "text/html": [
       "<div>\n",
       "<style scoped>\n",
       "    .dataframe tbody tr th:only-of-type {\n",
       "        vertical-align: middle;\n",
       "    }\n",
       "\n",
       "    .dataframe tbody tr th {\n",
       "        vertical-align: top;\n",
       "    }\n",
       "\n",
       "    .dataframe thead th {\n",
       "        text-align: right;\n",
       "    }\n",
       "</style>\n",
       "<table border=\"1\" class=\"dataframe\">\n",
       "  <thead>\n",
       "    <tr style=\"text-align: right;\">\n",
       "      <th></th>\n",
       "      <th>Open</th>\n",
       "      <th>High</th>\n",
       "      <th>Low</th>\n",
       "      <th>Close</th>\n",
       "      <th>Volume</th>\n",
       "      <th>Close-Open</th>\n",
       "    </tr>\n",
       "  </thead>\n",
       "  <tbody>\n",
       "    <tr>\n",
       "      <th>0</th>\n",
       "      <td>35571.20</td>\n",
       "      <td>35612.00</td>\n",
       "      <td>35543.50</td>\n",
       "      <td>35562.00</td>\n",
       "      <td>52975</td>\n",
       "      <td>0.00</td>\n",
       "    </tr>\n",
       "    <tr>\n",
       "      <th>1</th>\n",
       "      <td>35562.00</td>\n",
       "      <td>35589.00</td>\n",
       "      <td>35539.70</td>\n",
       "      <td>35551.60</td>\n",
       "      <td>56575</td>\n",
       "      <td>-4.10</td>\n",
       "    </tr>\n",
       "    <tr>\n",
       "      <th>2</th>\n",
       "      <td>35555.70</td>\n",
       "      <td>35623.45</td>\n",
       "      <td>35545.05</td>\n",
       "      <td>35595.00</td>\n",
       "      <td>71075</td>\n",
       "      <td>-8.00</td>\n",
       "    </tr>\n",
       "    <tr>\n",
       "      <th>3</th>\n",
       "      <td>35603.00</td>\n",
       "      <td>35675.00</td>\n",
       "      <td>35570.00</td>\n",
       "      <td>35600.00</td>\n",
       "      <td>113375</td>\n",
       "      <td>-3.55</td>\n",
       "    </tr>\n",
       "    <tr>\n",
       "      <th>4</th>\n",
       "      <td>35603.55</td>\n",
       "      <td>35627.60</td>\n",
       "      <td>35570.40</td>\n",
       "      <td>35610.00</td>\n",
       "      <td>51825</td>\n",
       "      <td>3.90</td>\n",
       "    </tr>\n",
       "    <tr>\n",
       "      <th>...</th>\n",
       "      <td>...</td>\n",
       "      <td>...</td>\n",
       "      <td>...</td>\n",
       "      <td>...</td>\n",
       "      <td>...</td>\n",
       "      <td>...</td>\n",
       "    </tr>\n",
       "    <tr>\n",
       "      <th>272</th>\n",
       "      <td>32635.00</td>\n",
       "      <td>32694.45</td>\n",
       "      <td>32615.10</td>\n",
       "      <td>32646.75</td>\n",
       "      <td>89825</td>\n",
       "      <td>-8.25</td>\n",
       "    </tr>\n",
       "    <tr>\n",
       "      <th>273</th>\n",
       "      <td>32655.00</td>\n",
       "      <td>32792.85</td>\n",
       "      <td>32633.00</td>\n",
       "      <td>32706.90</td>\n",
       "      <td>124325</td>\n",
       "      <td>4.90</td>\n",
       "    </tr>\n",
       "    <tr>\n",
       "      <th>274</th>\n",
       "      <td>32702.00</td>\n",
       "      <td>32758.05</td>\n",
       "      <td>32660.00</td>\n",
       "      <td>32723.95</td>\n",
       "      <td>61300</td>\n",
       "      <td>-4.35</td>\n",
       "    </tr>\n",
       "    <tr>\n",
       "      <th>275</th>\n",
       "      <td>32728.30</td>\n",
       "      <td>32771.00</td>\n",
       "      <td>32676.95</td>\n",
       "      <td>32715.00</td>\n",
       "      <td>71275</td>\n",
       "      <td>-0.05</td>\n",
       "    </tr>\n",
       "    <tr>\n",
       "      <th>276</th>\n",
       "      <td>32715.05</td>\n",
       "      <td>32768.15</td>\n",
       "      <td>32645.75</td>\n",
       "      <td>32667.70</td>\n",
       "      <td>69375</td>\n",
       "      <td>32667.70</td>\n",
       "    </tr>\n",
       "  </tbody>\n",
       "</table>\n",
       "<p>277 rows × 6 columns</p>\n",
       "</div>"
      ],
      "text/plain": [
       "         Open      High       Low     Close  Volume  Close-Open\n",
       "0    35571.20  35612.00  35543.50  35562.00   52975        0.00\n",
       "1    35562.00  35589.00  35539.70  35551.60   56575       -4.10\n",
       "2    35555.70  35623.45  35545.05  35595.00   71075       -8.00\n",
       "3    35603.00  35675.00  35570.00  35600.00  113375       -3.55\n",
       "4    35603.55  35627.60  35570.40  35610.00   51825        3.90\n",
       "..        ...       ...       ...       ...     ...         ...\n",
       "272  32635.00  32694.45  32615.10  32646.75   89825       -8.25\n",
       "273  32655.00  32792.85  32633.00  32706.90  124325        4.90\n",
       "274  32702.00  32758.05  32660.00  32723.95   61300       -4.35\n",
       "275  32728.30  32771.00  32676.95  32715.00   71275       -0.05\n",
       "276  32715.05  32768.15  32645.75  32667.70   69375    32667.70\n",
       "\n",
       "[277 rows x 6 columns]"
      ]
     },
     "execution_count": 84,
     "metadata": {},
     "output_type": "execute_result"
    }
   ],
   "source": [
    "import pandas as pd\n",
    "import matplotlib.pyplot as plt\n",
    "from six import StringIO\n",
    "import numpy as np\n",
    "import seaborn as sns\n",
    "%matplotlib inline\n",
    "from sklearn import tree\n",
    "import six\n",
    "import sys\n",
    "sys.modules['sklearn.externals.six'] = six\n",
    "df = pd.read_csv(\"C:\\\\Users\\\\reauter\\\\Documents\\\\Data_Binning.csv\")\n",
    "#df.columns = [\"Full_Code\",\"Name\", \"Code\",\"L.Trade\", \"Bid Vol\",\"Bid\",\"Ask\",\"Ask Vol\",\"Volume\",\"High\",\"Low\",\"P.Close\",\"+/- %\"]\n",
    "df.drop(df.columns[0:2], axis=1, inplace=True)\n",
    "df.drop(df.columns[6:212], axis=1, inplace=True)\n",
    "df"
   ]
  },
  {
   "cell_type": "code",
   "execution_count": 85,
   "id": "4dab30e9",
   "metadata": {},
   "outputs": [
    {
     "name": "stdout",
     "output_type": "stream",
     "text": [
      "Populating the interactive namespace from numpy and matplotlib\n"
     ]
    }
   ],
   "source": [
    "#Regression – Estimating the relationships between variables by optimizing the reduction of error\n",
    "import pandas as pd\n",
    "import matplotlib.pyplot as plt\n",
    "import numpy as np\n",
    "import scipy.stats as stats\n",
    "import seaborn as sns\n",
    "from matplotlib import rcParams\n",
    "\n",
    "%matplotlib inline \n",
    "%pylab inline "
   ]
  },
  {
   "cell_type": "code",
   "execution_count": 86,
   "id": "d60806f9",
   "metadata": {},
   "outputs": [
    {
     "data": {
      "text/html": [
       "<div>\n",
       "<style scoped>\n",
       "    .dataframe tbody tr th:only-of-type {\n",
       "        vertical-align: middle;\n",
       "    }\n",
       "\n",
       "    .dataframe tbody tr th {\n",
       "        vertical-align: top;\n",
       "    }\n",
       "\n",
       "    .dataframe thead th {\n",
       "        text-align: right;\n",
       "    }\n",
       "</style>\n",
       "<table border=\"1\" class=\"dataframe\">\n",
       "  <thead>\n",
       "    <tr style=\"text-align: right;\">\n",
       "      <th></th>\n",
       "      <th>Open</th>\n",
       "      <th>High</th>\n",
       "      <th>Low</th>\n",
       "      <th>Close</th>\n",
       "      <th>Volume</th>\n",
       "      <th>Close-Open</th>\n",
       "    </tr>\n",
       "  </thead>\n",
       "  <tbody>\n",
       "    <tr>\n",
       "      <th>count</th>\n",
       "      <td>277.000000</td>\n",
       "      <td>277.000000</td>\n",
       "      <td>277.000000</td>\n",
       "      <td>277.000000</td>\n",
       "      <td>277.000000</td>\n",
       "      <td>277.000000</td>\n",
       "    </tr>\n",
       "    <tr>\n",
       "      <th>mean</th>\n",
       "      <td>34438.214621</td>\n",
       "      <td>34486.027076</td>\n",
       "      <td>34386.472924</td>\n",
       "      <td>34432.070397</td>\n",
       "      <td>137580.234657</td>\n",
       "      <td>122.271661</td>\n",
       "    </tr>\n",
       "    <tr>\n",
       "      <th>std</th>\n",
       "      <td>982.566028</td>\n",
       "      <td>979.898829</td>\n",
       "      <td>986.968375</td>\n",
       "      <td>985.404301</td>\n",
       "      <td>102101.447156</td>\n",
       "      <td>1963.419920</td>\n",
       "    </tr>\n",
       "    <tr>\n",
       "      <th>min</th>\n",
       "      <td>32396.800000</td>\n",
       "      <td>32589.000000</td>\n",
       "      <td>32335.000000</td>\n",
       "      <td>32413.650000</td>\n",
       "      <td>0.000000</td>\n",
       "      <td>-300.250000</td>\n",
       "    </tr>\n",
       "    <tr>\n",
       "      <th>25%</th>\n",
       "      <td>33427.700000</td>\n",
       "      <td>33464.000000</td>\n",
       "      <td>33377.000000</td>\n",
       "      <td>33422.600000</td>\n",
       "      <td>71275.000000</td>\n",
       "      <td>-2.900000</td>\n",
       "    </tr>\n",
       "    <tr>\n",
       "      <th>50%</th>\n",
       "      <td>34822.700000</td>\n",
       "      <td>34877.800000</td>\n",
       "      <td>34793.000000</td>\n",
       "      <td>34838.600000</td>\n",
       "      <td>111950.000000</td>\n",
       "      <td>0.650000</td>\n",
       "    </tr>\n",
       "    <tr>\n",
       "      <th>75%</th>\n",
       "      <td>35298.550000</td>\n",
       "      <td>35369.100000</td>\n",
       "      <td>35260.000000</td>\n",
       "      <td>35308.650000</td>\n",
       "      <td>178375.000000</td>\n",
       "      <td>3.900000</td>\n",
       "    </tr>\n",
       "    <tr>\n",
       "      <th>max</th>\n",
       "      <td>36000.250000</td>\n",
       "      <td>36333.000000</td>\n",
       "      <td>35865.000000</td>\n",
       "      <td>35912.200000</td>\n",
       "      <td>713875.000000</td>\n",
       "      <td>32667.700000</td>\n",
       "    </tr>\n",
       "  </tbody>\n",
       "</table>\n",
       "</div>"
      ],
      "text/plain": [
       "               Open          High           Low         Close         Volume  \\\n",
       "count    277.000000    277.000000    277.000000    277.000000     277.000000   \n",
       "mean   34438.214621  34486.027076  34386.472924  34432.070397  137580.234657   \n",
       "std      982.566028    979.898829    986.968375    985.404301  102101.447156   \n",
       "min    32396.800000  32589.000000  32335.000000  32413.650000       0.000000   \n",
       "25%    33427.700000  33464.000000  33377.000000  33422.600000   71275.000000   \n",
       "50%    34822.700000  34877.800000  34793.000000  34838.600000  111950.000000   \n",
       "75%    35298.550000  35369.100000  35260.000000  35308.650000  178375.000000   \n",
       "max    36000.250000  36333.000000  35865.000000  35912.200000  713875.000000   \n",
       "\n",
       "         Close-Open  \n",
       "count    277.000000  \n",
       "mean     122.271661  \n",
       "std     1963.419920  \n",
       "min     -300.250000  \n",
       "25%       -2.900000  \n",
       "50%        0.650000  \n",
       "75%        3.900000  \n",
       "max    32667.700000  "
      ]
     },
     "execution_count": 86,
     "metadata": {},
     "output_type": "execute_result"
    }
   ],
   "source": [
    "df.describe()"
   ]
  },
  {
   "cell_type": "code",
   "execution_count": 87,
   "id": "1704e9bf",
   "metadata": {},
   "outputs": [
    {
     "data": {
      "image/png": "[encoded data removed]",
      "text/plain": [
       "<Figure size 1152x432 with 2 Axes>"
      ]
     },
     "metadata": {
      "needs_background": "light"
     },
     "output_type": "display_data"
    }
   ],
   "source": [
    "'''\n",
    "Quick takeaways: We are working with a data set that contains 277 observations,\n",
    "mean Opening price is approximately Rs.34438, median price is approximately Rs.34822\n",
    "'''\n",
    "'''\n",
    "fig.add_subplot(221)   #top left\n",
    "fig.add_subplot(222)   #top right\n",
    "fig.add_subplot(223)   #bottom left\n",
    "fig.add_subplot(224)   #bottom right\n",
    "'''\n",
    "\n",
    "fig = plt.figure(figsize=(16, 6))\n",
    "open = fig.add_subplot(221)\n",
    "close = fig.add_subplot(224)\n",
    "\n",
    "open.hist(df.Open, bins=80)\n",
    "open.set_xlabel('Open')\n",
    "open.set_title(\"Histogram of Openning price\")\n",
    "\n",
    "close.hist(df.Close, bins=80)\n",
    "close.set_xlabel('Close')\n",
    "close.set_title(\"Histogram of Closing Prices\")\n",
    "\n",
    "plt.show()\n"
   ]
  },
  {
   "cell_type": "code",
   "execution_count": 88,
   "id": "77d67b6f",
   "metadata": {},
   "outputs": [],
   "source": [
    "import statsmodels.api as sm\n",
    "from statsmodels.formula.api import ols"
   ]
  },
  {
   "cell_type": "code",
   "execution_count": 89,
   "id": "f5208690",
   "metadata": {},
   "outputs": [
    {
     "name": "stdout",
     "output_type": "stream",
     "text": [
      "                            OLS Regression Results                            \n",
      "==============================================================================\n",
      "Dep. Variable:                  Close   R-squared:                       0.995\n",
      "Model:                            OLS   Adj. R-squared:                  0.995\n",
      "Method:                 Least Squares   F-statistic:                 5.521e+04\n",
      "Date:                Mon, 20 Jun 2022   Prob (F-statistic):          5.88e-319\n",
      "Time:                        14:29:10   Log-Likelihood:                -1566.9\n",
      "No. Observations:                 277   AIC:                             3138.\n",
      "Df Residuals:                     275   BIC:                             3145.\n",
      "Df Model:                           1                                         \n",
      "Covariance Type:            nonrobust                                         \n",
      "==============================================================================\n",
      "                 coef    std err          t      P>|t|      [0.025      0.975]\n",
      "------------------------------------------------------------------------------\n",
      "Intercept    -19.9242    146.687     -0.136      0.892    -308.696     268.847\n",
      "Open           1.0004      0.004    234.963      0.000       0.992       1.009\n",
      "==============================================================================\n",
      "Omnibus:                       74.104   Durbin-Watson:                   2.074\n",
      "Prob(Omnibus):                  0.000   Jarque-Bera (JB):             1146.113\n",
      "Skew:                           0.565   Prob(JB):                    1.33e-249\n",
      "Kurtosis:                      12.901   Cond. No.                     1.21e+06\n",
      "==============================================================================\n",
      "\n",
      "Notes:\n",
      "[1] Standard Errors assume that the covariance matrix of the errors is correctly specified.\n",
      "[2] The condition number is large, 1.21e+06. This might indicate that there are\n",
      "strong multicollinearity or other numerical problems.\n"
     ]
    }
   ],
   "source": [
    "'''\n",
    "When you code to produce a linear regression summary with OLS with only two variables this will be the formula that you use:\n",
    "The “Ordinary Least Squares” module will be doing the bulk of the work when it comes to crunching numbers for regression in Python.\n",
    "'''\n",
    "m = ols('Close ~ Open',df).fit()\n",
    "print (m.summary())"
   ]
  },
  {
   "cell_type": "code",
   "execution_count": 90,
   "id": "d85068be",
   "metadata": {},
   "outputs": [
    {
     "name": "stdout",
     "output_type": "stream",
     "text": [
      "                            OLS Regression Results                            \n",
      "==============================================================================\n",
      "Dep. Variable:                  Close   R-squared:                       0.999\n",
      "Model:                            OLS   Adj. R-squared:                  0.999\n",
      "Method:                 Least Squares   F-statistic:                 9.399e+04\n",
      "Date:                Mon, 20 Jun 2022   Prob (F-statistic):               0.00\n",
      "Time:                        14:29:10   Log-Likelihood:                -1340.6\n",
      "No. Observations:                 277   AIC:                             2689.\n",
      "Df Residuals:                     273   BIC:                             2704.\n",
      "Df Model:                           3                                         \n",
      "Covariance Type:            nonrobust                                         \n",
      "==============================================================================\n",
      "                 coef    std err          t      P>|t|      [0.025      0.975]\n",
      "------------------------------------------------------------------------------\n",
      "Intercept      4.9426     65.860      0.075      0.940    -124.715     134.600\n",
      "Open          -0.5630      0.047    -12.064      0.000      -0.655      -0.471\n",
      "High           0.6495      0.036     18.185      0.000       0.579       0.720\n",
      "Low            0.9136      0.039     23.405      0.000       0.837       0.990\n",
      "==============================================================================\n",
      "Omnibus:                       59.833   Durbin-Watson:                   1.981\n",
      "Prob(Omnibus):                  0.000   Jarque-Bera (JB):              593.679\n",
      "Skew:                          -0.491   Prob(JB):                    1.21e-129\n",
      "Kurtosis:                      10.104   Cond. No.                     2.12e+06\n",
      "==============================================================================\n",
      "\n",
      "Notes:\n",
      "[1] Standard Errors assume that the covariance matrix of the errors is correctly specified.\n",
      "[2] The condition number is large, 2.12e+06. This might indicate that there are\n",
      "strong multicollinearity or other numerical problems.\n"
     ]
    }
   ],
   "source": [
    "m = ols('Close ~ Open + High + Low ',df).fit()\n",
    "print (m.summary())"
   ]
  },
  {
   "cell_type": "code",
   "execution_count": 91,
   "id": "e496b893",
   "metadata": {},
   "outputs": [
    {
     "data": {
      "text/plain": [
       "'\\nAn example of multivariate linear regression.\\n\\nIn our multivariate regression output above, we learn that by using additional independent variables,\\nsuch as the number of High, we can provide a model that fits the data better, \\nas the R-squared for this regression has increased to 0.999. \\nThis means that we went from being able to explain about 99.5% of the variation in the model to 99.9% \\nwith the addition of a few more independent variables. \\n'"
      ]
     },
     "execution_count": 91,
     "metadata": {},
     "output_type": "execute_result"
    }
   ],
   "source": [
    "'''\n",
    "An example of multivariate linear regression.\n",
    "\n",
    "In our multivariate regression output above, we learn that by using additional independent variables,\n",
    "such as the number of High, we can provide a model that fits the data better, \n",
    "as the R-squared for this regression has increased to 0.999. \n",
    "This means that we went from being able to explain about 99.5% of the variation in the model to 99.9% \n",
    "with the addition of a few more independent variables. \n",
    "'''"
   ]
  },
  {
   "cell_type": "code",
   "execution_count": null,
   "id": "9b0358a8",
   "metadata": {},
   "outputs": [],
   "source": []
  },
  {
   "cell_type": "code",
   "execution_count": 92,
   "id": "f5e2ec0f",
   "metadata": {},
   "outputs": [
    {
     "name": "stderr",
     "output_type": "stream",
     "text": [
      "C:\\Users\\reauter\\anaconda3\\lib\\site-packages\\seaborn\\axisgrid.py:2182: UserWarning: The `size` parameter has been renamed to `height`; please update your code.\n",
      "  warnings.warn(msg, UserWarning)\n"
     ]
    },
    {
     "data": {
      "image/png": "[encoded data removed]",
      "text/plain": [
       "<Figure size 504x504 with 3 Axes>"
      ]
     },
     "metadata": {
      "needs_background": "light"
     },
     "output_type": "display_data"
    }
   ],
   "source": [
    "sns.jointplot(x=\"Close\", y=\"Open\", data=df, kind = 'reg',fit_reg= True, size = 7)\n",
    "plt.show()\n"
   ]
  },
  {
   "cell_type": "code",
   "execution_count": 98,
   "id": "da7ed8de",
   "metadata": {},
   "outputs": [
    {
     "data": {
      "text/plain": [
       "Text(0, 0.5, 'High')"
      ]
     },
     "execution_count": 98,
     "metadata": {},
     "output_type": "execute_result"
    },
    {
     "data": {
      "image/png": "[encoded data removed]",
      "text/plain": [
       "<Figure size 432x288 with 1 Axes>"
      ]
     },
     "metadata": {
      "needs_background": "light"
     },
     "output_type": "display_data"
    }
   ],
   "source": [
    "#a k-means cluster model\n",
    "import pandas as pd\n",
    "import numpy as np\n",
    "import matplotlib\n",
    "import matplotlib.pyplot as plt\n",
    "\n",
    "import sklearn\n",
    "from sklearn import cluster\n",
    "\n",
    "%matplotlib inline\n",
    "plt.scatter(df.Low, df.High)\n",
    "plt.title('Close and High value scatterplot')\n",
    "plt.xlabel('Close')\n",
    "plt.ylabel('High')"
   ]
  },
  {
   "cell_type": "code",
   "execution_count": 99,
   "id": "7ecbd7f4",
   "metadata": {},
   "outputs": [],
   "source": [
    "#Step two: Building the cluster model\n"
   ]
  },
  {
   "cell_type": "code",
   "execution_count": 100,
   "id": "7e8f04d6",
   "metadata": {},
   "outputs": [],
   "source": [
    "#df.drop(df.columns[0:2], axis=1, inplace=True)\n"
   ]
  },
  {
   "cell_type": "code",
   "execution_count": 101,
   "id": "3fccef35",
   "metadata": {},
   "outputs": [
    {
     "name": "stderr",
     "output_type": "stream",
     "text": [
      "C:\\Users\\reauter\\anaconda3\\lib\\site-packages\\sklearn\\cluster\\_kmeans.py:1332: UserWarning: KMeans is known to have a memory leak on Windows with MKL, when there are less chunks than available threads. You can avoid it by setting the environment variable OMP_NUM_THREADS=2.\n",
      "  warnings.warn(\n"
     ]
    }
   ],
   "source": [
    "faith = np.array(df)\n",
    "\n",
    "k = 2\n",
    "kmeans = cluster.KMeans(n_clusters=k)\n",
    "kmeans.fit(faith)\n",
    "\n",
    "labels = kmeans.labels_\n",
    "centroids = kmeans.cluster_centers_"
   ]
  },
  {
   "cell_type": "code",
   "execution_count": 104,
   "id": "865ff32b",
   "metadata": {},
   "outputs": [
    {
     "data": {
      "image/png": "[encoded data removed]",
      "text/plain": [
       "<Figure size 432x288 with 1 Axes>"
      ]
     },
     "metadata": {
      "needs_background": "light"
     },
     "output_type": "display_data"
    }
   ],
   "source": [
    "for i in range(k):\n",
    "    # select only data observations with cluster label == i\n",
    "    ds = faith[np.where(labels==i)]\n",
    "    # plot the data observations\n",
    "    plt.plot(ds[:,0],ds[:,1],'o', markersize=7)\n",
    "    # plot the centroids\n",
    "    lines = plt.plot(centroids[i,0],centroids[i,1],'kx')\n",
    "    # make the centroid x's bigger\n",
    "    plt.setp(lines,ms=15.0)\n",
    "    plt.setp(lines,mew=4.0)\n",
    "plt.show()"
   ]
  },
  {
   "cell_type": "code",
   "execution_count": 103,
   "id": "ea9e2444",
   "metadata": {},
   "outputs": [],
   "source": []
  },
  {
   "cell_type": "code",
   "execution_count": null,
   "id": "c560cc7f",
   "metadata": {},
   "outputs": [],
   "source": []
  },
  {
   "cell_type": "code",
   "execution_count": null,
   "id": "775ad522",
   "metadata": {},
   "outputs": [],
   "source": []
  },
  {
   "cell_type": "code",
   "execution_count": null,
   "id": "c28ae157",
   "metadata": {},
   "outputs": [],
   "source": []
  }
 ],
 "metadata": {
  "kernelspec": {
   "display_name": "Python 3 (ipykernel)",
   "language": "python",
   "name": "python3"
  },
  "language_info": {
   "codemirror_mode": {
    "name": "ipython",
    "version": 3
   },
   "file_extension": ".py",
   "mimetype": "text/x-python",
   "name": "python",
   "nbconvert_exporter": "python",
   "pygments_lexer": "ipython3",
   "version": "3.9.7"
  }
 },
 "nbformat": 4,
 "nbformat_minor": 5
}
