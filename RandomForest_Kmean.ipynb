{
 "cells": [
  {
   "cell_type": "code",
   "execution_count": 3,
   "id": "41bf9cf5",
   "metadata": {},
   "outputs": [],
   "source": [
    "import pandas as pd\n",
    "import seaborn as sns\n",
    "import matplotlib.pyplot as plt\n",
    "from matplotlib import pyplot as plt\n",
    "import numpy as np\n",
    "import re\n",
    "path = \"C://Users//reauter//Desktop//New folder (3)//Book2.csv\"\n",
    "dataset = pd.read_csv(path)\n",
    "dataset.head()\n",
    "#Data Preprocessing will be done with the help of following script lines\n",
    "X = dataset.iloc[:, 1:].values\n",
    "y = dataset.iloc[:,1].values"
   ]
  },
  {
   "cell_type": "code",
   "execution_count": 4,
   "id": "6cc400cd",
   "metadata": {},
   "outputs": [
    {
     "name": "stdout",
     "output_type": "stream",
     "text": [
      "[0 1 0 1 0 1 0 1 0 1 0 1 2 4 0 1 1 2 0 1 0 1 0 1 0 1 0 1 1 3 0 2 0 2 0 1]\n"
     ]
    }
   ],
   "source": [
    "#changing to categorical value\n",
    "from sklearn import preprocessing\n",
    "from sklearn import utils\n",
    "\n",
    "#convert y values to categorical values\n",
    "lab = preprocessing.LabelEncoder()\n",
    "y_transformed = lab.fit_transform(y)\n",
    "\n",
    "#view transformed values\n",
    "print(y_transformed)\n"
   ]
  },
  {
   "cell_type": "code",
   "execution_count": 5,
   "id": "87c3d8eb",
   "metadata": {},
   "outputs": [],
   "source": [
    "#Next, we will divide the data into train and test split. The following code will split the dataset into 70% training data and 30% of testing data\n",
    "from sklearn.model_selection import train_test_split\n",
    "X_train, X_test, y_train, y_test = train_test_split(X, y, test_size=0.30)"
   ]
  },
  {
   "cell_type": "code",
   "execution_count": 6,
   "id": "ba5e60e9",
   "metadata": {},
   "outputs": [
    {
     "data": {
      "text/plain": [
       "RandomForestClassifier(n_estimators=50)"
      ]
     },
     "execution_count": 6,
     "metadata": {},
     "output_type": "execute_result"
    }
   ],
   "source": [
    "#Next, train the model with the help of RandomForestClassifier class of sklearn as follows\n",
    "from sklearn.ensemble import RandomForestClassifier\n",
    "classifier = RandomForestClassifier(n_estimators=50)\n",
    "classifier.fit(X_train, y_train)"
   ]
  },
  {
   "cell_type": "code",
   "execution_count": 12,
   "id": "405d5479",
   "metadata": {},
   "outputs": [
    {
     "name": "stdout",
     "output_type": "stream",
     "text": [
      "Confusion Matrix:\n",
      "[[2 0 0 0]\n",
      " [1 5 0 0]\n",
      " [0 2 0 0]\n",
      " [0 1 0 0]]\n",
      "Classification Report:\n",
      "              precision    recall  f1-score   support\n",
      "\n",
      "        2102       0.67      1.00      0.80         2\n",
      "        2103       0.62      0.83      0.71         6\n",
      "        2104       0.00      0.00      0.00         2\n",
      "        2106       0.00      0.00      0.00         1\n",
      "\n",
      "    accuracy                           0.64        11\n",
      "   macro avg       0.32      0.46      0.38        11\n",
      "weighted avg       0.46      0.64      0.54        11\n",
      "\n",
      "Accuracy: 0.6363636363636364\n"
     ]
    },
    {
     "name": "stderr",
     "output_type": "stream",
     "text": [
      "C:\\Users\\reauter\\anaconda3\\lib\\site-packages\\sklearn\\metrics\\_classification.py:1248: UndefinedMetricWarning: Precision and F-score are ill-defined and being set to 0.0 in labels with no predicted samples. Use `zero_division` parameter to control this behavior.\n",
      "  _warn_prf(average, modifier, msg_start, len(result))\n",
      "C:\\Users\\reauter\\anaconda3\\lib\\site-packages\\sklearn\\metrics\\_classification.py:1248: UndefinedMetricWarning: Precision and F-score are ill-defined and being set to 0.0 in labels with no predicted samples. Use `zero_division` parameter to control this behavior.\n",
      "  _warn_prf(average, modifier, msg_start, len(result))\n",
      "C:\\Users\\reauter\\anaconda3\\lib\\site-packages\\sklearn\\metrics\\_classification.py:1248: UndefinedMetricWarning: Precision and F-score are ill-defined and being set to 0.0 in labels with no predicted samples. Use `zero_division` parameter to control this behavior.\n",
      "  _warn_prf(average, modifier, msg_start, len(result))\n"
     ]
    }
   ],
   "source": [
    "#At last, we need to make prediction. It can be done with the help of following script −\n",
    "y_pred = classifier.predict(X_test)\n",
    "#Next, print the results as follows −\n",
    "from sklearn.metrics import classification_report, confusion_matrix, accuracy_score\n",
    "result = confusion_matrix(y_test, y_pred)\n",
    "print(\"Confusion Matrix:\")\n",
    "print(result)\n",
    "result1 = classification_report(y_test, y_pred)\n",
    "print(\"Classification Report:\",)\n",
    "print (result1)\n",
    "result2 = accuracy_score(y_test,y_pred)\n",
    "print(\"Accuracy:\",result2)"
   ]
  },
  {
   "cell_type": "code",
   "execution_count": 11,
   "id": "c1d29e44",
   "metadata": {},
   "outputs": [
    {
     "data": {
      "text/plain": [
       "'\\nWhat is the purpose of classification report?\\nA Classification report is used to measure the quality of predictions\\nfrom a classification algorithm. How many predictions are True and how many are False.\\nMore specifically, True Positives, False Positives, True negatives and False Negatives \\nare used to predict the metrics of a classification report as shown below.\\n\\nPrecision:- Accuracy of positive predictions.\\n\\nPrecision of code 2102,2103,2104 is 100%.\\n\\nRecall:- Fraction of positives that were correctly identified.\\n\\n100% of positives are correctly identified.\\n\\n\\n\\n\\n'"
      ]
     },
     "execution_count": 11,
     "metadata": {},
     "output_type": "execute_result"
    }
   ],
   "source": [
    "'''\n",
    "What is the purpose of classification report?\n",
    "A Classification report is used to measure the quality of predictions\n",
    "from a classification algorithm. How many predictions are True and how many are False.\n",
    "More specifically, True Positives, False Positives, True negatives and False Negatives \n",
    "are used to predict the metrics of a classification report as shown below.\n",
    "\n",
    "Precision:- Accuracy of positive predictions.\n",
    "\n",
    "Precision of code 2102 is 67%.\n",
    "Precision of code 2103 is 62%.\n",
    "Precision of code 2104 is 0%.\n",
    "Precision of code 2106 is 0%.\n",
    "\n",
    "Recall:- Fraction of positives that were correctly identified.\n",
    "\n",
    "100% of positives are correctly identified of code 2102\n",
    "83% of positives are correctly identified of code 2103\n",
    "0% of positives are correctly identified of code 2104\n",
    "0% of positives are correctly identified of code 2106\n",
    "\n",
    "\n",
    "F1 score — What percent of positive predictions were correct\n",
    "\n",
    "80% of positive predictions were correct of 2102\n",
    "71% of positive predictions were correct of 2103\n",
    "0% of positive predictions were correct of 2104\n",
    "0% of positive predictions were correct of 2106\n",
    "\n",
    "Support\n",
    "\n",
    "Support is the number of actual occurrences of the class in the specified dataset.\n",
    "\n",
    "Code 2102 appeared in the dataset 2\n",
    "Code 2103 appeared in the dataset 6\n",
    "Code 2104 appeared in the dataset 2 \n",
    "Code 2106 appeared in the dataset 1\n",
    "\n",
    "Accuracy is one metric for evaluating classification models. Informally, accuracy is the fraction of Accuracy is one metric for evaluating classification models. Informally, accuracy is the fraction of predictions our model got right.\n",
    "63.63% of predictions our model got right. \n",
    "'''"
   ]
  },
  {
   "cell_type": "code",
   "execution_count": 80,
   "id": "1ffec650",
   "metadata": {},
   "outputs": [],
   "source": [
    "# importing libraries    \n",
    "import numpy as nm    \n",
    "import matplotlib.pyplot as mtp    \n",
    "import pandas as pd    \n",
    "datasets = pd.read_csv(\"C://Users//reauter//Documents//clustering_excel.csv\")"
   ]
  },
  {
   "cell_type": "code",
   "execution_count": 82,
   "id": "1deb5d26",
   "metadata": {},
   "outputs": [],
   "source": [
    "#Extracting Independent Variables −\n",
    "x = datasets.iloc[:, [0,1]].values"
   ]
  },
  {
   "cell_type": "code",
   "execution_count": 83,
   "id": "e40f0beb",
   "metadata": {},
   "outputs": [
    {
     "name": "stderr",
     "output_type": "stream",
     "text": [
      "C:\\Users\\reauter\\anaconda3\\lib\\site-packages\\sklearn\\cluster\\_kmeans.py:881: UserWarning: KMeans is known to have a memory leak on Windows with MKL, when there are less chunks than available threads. You can avoid it by setting the environment variable OMP_NUM_THREADS=1.\n",
      "  warnings.warn(\n"
     ]
    },
    {
     "data": {
      "image/png": "[encoded data removed]",
      "text/plain": [
       "<Figure size 432x288 with 1 Axes>"
      ]
     },
     "metadata": {},
     "output_type": "display_data"
    }
   ],
   "source": [
    "#Finding the optimal number of clusters using the elbow method\n",
    "#finding optimal number of clusters using the elbow method  \n",
    "from sklearn.cluster import KMeans  \n",
    "wcss_list= []  #Initializing the list for the values of WCSS  \n",
    "  \n",
    "#Using for loop for iterations from 1 to 10.  \n",
    "for i in range(1, 11):  \n",
    "    kmeans = KMeans(n_clusters=i, init='k-means++', random_state= 42)  \n",
    "    kmeans.fit(x)  \n",
    "    wcss_list.append(kmeans.inertia_)  \n",
    "mtp.plot(range(1, 11), wcss_list)  \n",
    "mtp.title('The Elobw Method Graph')  \n",
    "mtp.xlabel('Number of clusters(k)')  \n",
    "mtp.ylabel('wcss_list')  \n",
    "mtp.show()  "
   ]
  },
  {
   "cell_type": "code",
   "execution_count": 84,
   "id": "cb62a03b",
   "metadata": {},
   "outputs": [],
   "source": [
    "#The number of cluster will be 3,understood from the above graph\n",
    "#training the K-means model on a dataset  \n",
    "kmeans = KMeans(n_clusters=2, init='k-means++', random_state= 42)  \n",
    "y_predict= kmeans.fit_predict(x)  \n"
   ]
  },
  {
   "cell_type": "code",
   "execution_count": 87,
   "id": "71d54620",
   "metadata": {},
   "outputs": [
    {
     "data": {
      "image/png": "[encoded data removed]",
      "text/plain": [
       "<Figure size 432x288 with 1 Axes>"
      ]
     },
     "metadata": {},
     "output_type": "display_data"
    }
   ],
   "source": [
    "#visulaizing the clusters  \n",
    "mtp.scatter(x[y_predict == 0, 0], x[y_predict == 0, 1], s = 100, c = 'blue', label = 'Cluster 1') #for first cluster  \n",
    "mtp.scatter(x[y_predict == 1, 0], x[y_predict == 1, 1], s = 100, c = 'green', label = 'Cluster 2') #for second cluster  \n",
    "#mtp.scatter(x[y_predict== 2, 0], x[y_predict == 2, 1], s = 100, c = 'red', label = 'Cluster 3') #for third cluster  \n",
    "#mtp.scatter(x[y_predict == 3, 0], x[y_predict == 3, 1], s = 100, c = 'cyan', label = 'Cluster 4') #for fourth cluster  \n",
    "#mtp.scatter(x[y_predict == 4, 0], x[y_predict == 4, 1], s = 100, c = 'magenta', label = 'Cluster 5') #for fifth cluster  \n",
    "mtp.scatter(kmeans.cluster_centers_[:, 0], kmeans.cluster_centers_[:, 1], s = 300, c = 'yellow', label = 'Centroid')   \n",
    "mtp.title('Clusters of Shares')  \n",
    "mtp.xlabel('Code')  \n",
    "mtp.ylabel('P.close')  \n",
    "mtp.legend()  \n",
    "mtp.show()  "
   ]
  },
  {
   "cell_type": "code",
   "execution_count": null,
   "id": "8264c339",
   "metadata": {},
   "outputs": [],
   "source": []
  },
  {
   "cell_type": "code",
   "execution_count": null,
   "id": "3a5e3226",
   "metadata": {},
   "outputs": [],
   "source": []
  },
  {
   "cell_type": "code",
   "execution_count": null,
   "id": "952d3584",
   "metadata": {},
   "outputs": [],
   "source": []
  },
  {
   "cell_type": "code",
   "execution_count": null,
   "id": "fb8bf808",
   "metadata": {},
   "outputs": [],
   "source": []
  },
  {
   "cell_type": "code",
   "execution_count": null,
   "id": "ba3a500f",
   "metadata": {},
   "outputs": [],
   "source": []
  }
 ],
 "metadata": {
  "kernelspec": {
   "display_name": "Python 3 (ipykernel)",
   "language": "python",
   "name": "python3"
  },
  "language_info": {
   "codemirror_mode": {
    "name": "ipython",
    "version": 3
   },
   "file_extension": ".py",
   "mimetype": "text/x-python",
   "name": "python",
   "nbconvert_exporter": "python",
   "pygments_lexer": "ipython3",
   "version": "3.9.7"
  }
 },
 "nbformat": 4,
 "nbformat_minor": 5
}
