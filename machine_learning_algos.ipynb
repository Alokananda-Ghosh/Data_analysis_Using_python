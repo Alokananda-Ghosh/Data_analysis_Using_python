{
 "cells": [
  {
   "cell_type": "code",
   "execution_count": 136,
   "id": "64843f96",
   "metadata": {},
   "outputs": [
    {
     "name": "stdout",
     "output_type": "stream",
     "text": [
      "Accuracy: \n",
      " 0.75\n"
     ]
    }
   ],
   "source": [
    "#Starting implementation\n",
    "import pandas as pd\n",
    "import matplotlib.pyplot as plt\n",
    "from six import StringIO\n",
    "import numpy as np\n",
    "import seaborn as sns\n",
    "%matplotlib inline\n",
    "from sklearn import tree\n",
    "import six\n",
    "import sys\n",
    "sys.modules['sklearn.externals.six'] = six\n",
    "df = pd.read_csv(\"C:\\\\Users\\\\reauter\\\\Desktop\\\\New folder (3)\\\\Currency working(Cleaned data).csv\")\n",
    "#df.columns = [\"Full_Code\",\"Name\", \"Code\",\"L.Trade\", \"Bid Vol\",\"Bid\",\"Ask\",\"Ask Vol\",\"Volume\",\"High\",\"Low\",\"P.Close\",\"+/- %\"]\n",
    "df.head()\n",
    "\n",
    "#implementation\n",
    "from sklearn.model_selection import train_test_split\n",
    "decision = tree.DecisionTreeClassifier(criterion=\"gini\")\n",
    "X = df.values[:, 4:12]\n",
    "Y = df.values[:, 12]\n",
    "Y=Y.astype('int')\n",
    "trainX, testX, trainY, testY = train_test_split( X, Y, test_size = 0.3)\n",
    "decision.fit(trainX, trainY)\n",
    "print(\"Accuracy: \\n\", decision.score(testX, testY))\n",
    "\n"
   ]
  },
  {
   "cell_type": "code",
   "execution_count": 137,
   "id": "a766b1b4",
   "metadata": {},
   "outputs": [
    {
     "data": {
      "text/html": [
       "<div>\n",
       "<style scoped>\n",
       "    .dataframe tbody tr th:only-of-type {\n",
       "        vertical-align: middle;\n",
       "    }\n",
       "\n",
       "    .dataframe tbody tr th {\n",
       "        vertical-align: top;\n",
       "    }\n",
       "\n",
       "    .dataframe thead th {\n",
       "        text-align: right;\n",
       "    }\n",
       "</style>\n",
       "<table border=\"1\" class=\"dataframe\">\n",
       "  <thead>\n",
       "    <tr style=\"text-align: right;\">\n",
       "      <th></th>\n",
       "      <th>Full_Code</th>\n",
       "      <th>Name</th>\n",
       "      <th>Code</th>\n",
       "      <th>L.Trade</th>\n",
       "      <th>Bid Vol</th>\n",
       "      <th>Bid</th>\n",
       "      <th>Ask</th>\n",
       "      <th>Ask Vol</th>\n",
       "      <th>Volume</th>\n",
       "      <th>High</th>\n",
       "      <th>Low</th>\n",
       "      <th>P.Close</th>\n",
       "      <th>+/- %</th>\n",
       "    </tr>\n",
       "  </thead>\n",
       "  <tbody>\n",
       "    <tr>\n",
       "      <th>0</th>\n",
       "      <td>6EH1</td>\n",
       "      <td>EURO</td>\n",
       "      <td>2103</td>\n",
       "      <td>1.2080</td>\n",
       "      <td>27</td>\n",
       "      <td>1.2079</td>\n",
       "      <td>1.2081</td>\n",
       "      <td>25</td>\n",
       "      <td>49694</td>\n",
       "      <td>1.2102</td>\n",
       "      <td>1.2070</td>\n",
       "      <td>1.2092</td>\n",
       "      <td>-0.11</td>\n",
       "    </tr>\n",
       "    <tr>\n",
       "      <th>1</th>\n",
       "      <td>6EM1</td>\n",
       "      <td>EURO</td>\n",
       "      <td>2106</td>\n",
       "      <td>1.2105</td>\n",
       "      <td>2</td>\n",
       "      <td>1.2104</td>\n",
       "      <td>1.2105</td>\n",
       "      <td>2</td>\n",
       "      <td>70</td>\n",
       "      <td>1.2125</td>\n",
       "      <td>1.2098</td>\n",
       "      <td>1.2118</td>\n",
       "      <td>-0.10</td>\n",
       "    </tr>\n",
       "    <tr>\n",
       "      <th>2</th>\n",
       "      <td>NCFEURF1</td>\n",
       "      <td>NCFEUR</td>\n",
       "      <td>2101</td>\n",
       "      <td>88.5850</td>\n",
       "      <td>5</td>\n",
       "      <td>88.5800</td>\n",
       "      <td>88.5825</td>\n",
       "      <td>54</td>\n",
       "      <td>130758</td>\n",
       "      <td>88.6200</td>\n",
       "      <td>88.4250</td>\n",
       "      <td>89.8350</td>\n",
       "      <td>-1.39</td>\n",
       "    </tr>\n",
       "    <tr>\n",
       "      <th>3</th>\n",
       "      <td>NCFEURG1</td>\n",
       "      <td>NCFEUR</td>\n",
       "      <td>2102</td>\n",
       "      <td>88.8725</td>\n",
       "      <td>17</td>\n",
       "      <td>88.8600</td>\n",
       "      <td>88.8700</td>\n",
       "      <td>19</td>\n",
       "      <td>17241</td>\n",
       "      <td>88.8925</td>\n",
       "      <td>88.7525</td>\n",
       "      <td>89.8675</td>\n",
       "      <td>-1.11</td>\n",
       "    </tr>\n",
       "    <tr>\n",
       "      <th>4</th>\n",
       "      <td>6BH1</td>\n",
       "      <td>GBP</td>\n",
       "      <td>2103</td>\n",
       "      <td>1.3557</td>\n",
       "      <td>17</td>\n",
       "      <td>1.3557</td>\n",
       "      <td>1.3558</td>\n",
       "      <td>11</td>\n",
       "      <td>23417</td>\n",
       "      <td>1.3602</td>\n",
       "      <td>1.3523</td>\n",
       "      <td>1.3585</td>\n",
       "      <td>-0.21</td>\n",
       "    </tr>\n",
       "  </tbody>\n",
       "</table>\n",
       "</div>"
      ],
      "text/plain": [
       "  Full_Code    Name  Code  L.Trade  Bid Vol      Bid      Ask  Ask Vol  \\\n",
       "0      6EH1    EURO  2103   1.2080       27   1.2079   1.2081       25   \n",
       "1      6EM1    EURO  2106   1.2105        2   1.2104   1.2105        2   \n",
       "2  NCFEURF1  NCFEUR  2101  88.5850        5  88.5800  88.5825       54   \n",
       "3  NCFEURG1  NCFEUR  2102  88.8725       17  88.8600  88.8700       19   \n",
       "4      6BH1     GBP  2103   1.3557       17   1.3557   1.3558       11   \n",
       "\n",
       "   Volume     High      Low  P.Close  +/- %  \n",
       "0   49694   1.2102   1.2070   1.2092  -0.11  \n",
       "1      70   1.2125   1.2098   1.2118  -0.10  \n",
       "2  130758  88.6200  88.4250  89.8350  -1.39  \n",
       "3   17241  88.8925  88.7525  89.8675  -1.11  \n",
       "4   23417   1.3602   1.3523   1.3585  -0.21  "
      ]
     },
     "execution_count": 137,
     "metadata": {},
     "output_type": "execute_result"
    }
   ],
   "source": [
    "df.head()"
   ]
  },
  {
   "cell_type": "code",
   "execution_count": 138,
   "id": "4ba8fea9",
   "metadata": {},
   "outputs": [
    {
     "name": "stderr",
     "output_type": "stream",
     "text": [
      "C:\\Users\\reauter\\anaconda3\\lib\\site-packages\\seaborn\\_decorators.py:36: FutureWarning: Pass the following variables as keyword args: x, y. From version 0.12, the only valid positional argument will be `data`, and passing other arguments without an explicit keyword will result in an error or misinterpretation.\n",
      "  warnings.warn(\n"
     ]
    },
    {
     "data": {
      "text/plain": [
       "Text(0.5, 26.255999999999972, 'Code')"
      ]
     },
     "execution_count": 138,
     "metadata": {},
     "output_type": "execute_result"
    },
    {
     "data": {
      "image/png": "[encoded data removed]",
      "text/plain": [
       "<Figure size 1166.4x432 with 9 Axes>"
      ]
     },
     "metadata": {},
     "output_type": "display_data"
    }
   ],
   "source": [
    "from sklearn import svm\n",
    "df = pd.read_csv(\"C:\\\\Users\\\\reauter\\\\Desktop\\\\New folder (3)\\\\Currency working(Cleaned data).csv\")\n",
    "df.columns = [\"Full_Code\",\"Name\", \"Code\",\"L.Trade\", \"Bid Vol\",\"Bid\",\"Ask\",\"Ask Vol\",\"Volume\",\"High\",\"Low\",\"P.Close\",\"+/- %\"]\n",
    "from sklearn.model_selection import train_test_split\n",
    "support = svm.SVC()\n",
    "x = df.values[:, 4:12]\n",
    "y = df.values[:, 12]\n",
    "y=y.astype('int')\n",
    "trainX, testX, trainY, testY = train_test_split( X, Y, test_size = 0.3)\n",
    "sns.set_context('notebook', font_scale=1.1)\n",
    "sns.set_style('ticks')\n",
    "sns.lmplot('Code','Bid', scatter=True, fit_reg=False, data=df, hue=\"Name\",col=\"Name\", height=6, aspect=.3, x_jitter=.1)\n",
    "plt.ylabel('Bid')\n",
    "plt.xlabel('Code')"
   ]
  },
  {
   "cell_type": "code",
   "execution_count": 139,
   "id": "5f71944e",
   "metadata": {},
   "outputs": [
    {
     "name": "stderr",
     "output_type": "stream",
     "text": [
      "C:\\Users\\reauter\\anaconda3\\lib\\site-packages\\seaborn\\_decorators.py:36: FutureWarning: Pass the following variables as keyword args: x, y. From version 0.12, the only valid positional argument will be `data`, and passing other arguments without an explicit keyword will result in an error or misinterpretation.\n",
      "  warnings.warn(\n"
     ]
    },
    {
     "data": {
      "text/plain": [
       "Text(0.5, 26.255999999999972, 'P.Close')"
      ]
     },
     "execution_count": 139,
     "metadata": {},
     "output_type": "execute_result"
    },
    {
     "data": {
      "image/png": "[encoded data removed]",
      "text/plain": [
       "<Figure size 691.2x432 with 4 Axes>"
      ]
     },
     "metadata": {},
     "output_type": "display_data"
    }
   ],
   "source": [
    "from sklearn import svm\n",
    "df = pd.read_csv(\"C:\\\\Users\\\\reauter\\\\Desktop\\\\New folder (3)\\\\Currency working(Cleaned data).csv\")\n",
    "df.columns = [\"Full_Code\",\"Name\", \"Code\",\"L.Trade\", \"Bid Vol\",\"Bid\",\"Ask\",\"Ask Vol\",\"Volume\",\"High\",\"Low\",\"P.Close\",\"+/- %\"]\n",
    "from sklearn.model_selection import train_test_split\n",
    "support = svm.SVC()\n",
    "x = df.values[:, 4:12]\n",
    "y = df.values[:, 12]\n",
    "y=y.astype('int')\n",
    "trainX, testX, trainY, testY = train_test_split( X, Y, test_size = 0.3)\n",
    "sns.set_context('notebook', font_scale=1.1)\n",
    "sns.set_style('ticks')\n",
    "sns.lmplot('P.Close','Bid', scatter=True, fit_reg=False, data=df, hue=\"Code\", col=\"Code\", height=6, aspect=.4, x_jitter=.1)\n",
    "plt.ylabel('Bid')\n",
    "plt.xlabel('P.Close')"
   ]
  },
  {
   "cell_type": "code",
   "execution_count": 140,
   "id": "d3a5b3b8",
   "metadata": {},
   "outputs": [
    {
     "name": "stderr",
     "output_type": "stream",
     "text": [
      "C:\\Users\\reauter\\anaconda3\\lib\\site-packages\\seaborn\\_decorators.py:36: FutureWarning: Pass the following variables as keyword args: x, y. From version 0.12, the only valid positional argument will be `data`, and passing other arguments without an explicit keyword will result in an error or misinterpretation.\n",
      "  warnings.warn(\n"
     ]
    },
    {
     "data": {
      "text/plain": [
       "<seaborn.axisgrid.FacetGrid at 0x209c91c33a0>"
      ]
     },
     "execution_count": 140,
     "metadata": {},
     "output_type": "execute_result"
    },
    {
     "data": {
      "image/png": "[encoded data removed]",
      "text/plain": [
       "<Figure size 430.56x360 with 1 Axes>"
      ]
     },
     "metadata": {},
     "output_type": "display_data"
    }
   ],
   "source": [
    "from sklearn.cluster import KMeans\n",
    "df.head()\n",
    "from sklearn.model_selection import train_test_split\n",
    "kmeans = KMeans(n_clusters = 5)\n",
    "X = df.values[:, 2:12]\n",
    "kmeans.fit(X)\n",
    "df['P.Close'] = kmeans.predict(X)\n",
    "df.head()\n",
    "sns.set_context('notebook', font_scale = 1.1)\n",
    "sns.set_style('ticks')\n",
    "sns.lmplot('P.Close','Bid', scatter = True, fit_reg = False, data = df, hue = 'Code')"
   ]
  },
  {
   "cell_type": "code",
   "execution_count": 155,
   "id": "f512b72d",
   "metadata": {},
   "outputs": [],
   "source": [
    "from pandas import read_csv\n",
    "from sklearn.model_selection import KFold\n",
    "from sklearn.model_selection import cross_val_score\n",
    "from sklearn.ensemble import BaggingClassifier\n",
    "from sklearn.tree import DecisionTreeClassifier"
   ]
  },
  {
   "cell_type": "code",
   "execution_count": 156,
   "id": "c7465931",
   "metadata": {},
   "outputs": [],
   "source": [
    "seed = 7\n",
    "kfold = KFold(n_splits=10)\n",
    "cart = DecisionTreeClassifier()"
   ]
  },
  {
   "cell_type": "code",
   "execution_count": 160,
   "id": "144add8f",
   "metadata": {},
   "outputs": [],
   "source": [
    "num_trees = 150"
   ]
  },
  {
   "cell_type": "code",
   "execution_count": 161,
   "id": "b4820a1a",
   "metadata": {},
   "outputs": [],
   "source": [
    "model = BaggingClassifier(base_estimator=cart, n_estimators=num_trees, random_state=seed)"
   ]
  },
  {
   "cell_type": "code",
   "execution_count": 162,
   "id": "adeb3239",
   "metadata": {},
   "outputs": [
    {
     "name": "stdout",
     "output_type": "stream",
     "text": [
      "0.8166666666666667\n"
     ]
    }
   ],
   "source": [
    "results = cross_val_score(model, X, Y, cv=kfold)\n",
    "print(results.mean())"
   ]
  },
  {
   "cell_type": "code",
   "execution_count": 146,
   "id": "1efcb7bd",
   "metadata": {},
   "outputs": [],
   "source": [
    "#The output above shows that we got around 81.6% accuracy of our bagged decision tree classifier model."
   ]
  },
  {
   "cell_type": "code",
   "execution_count": 147,
   "id": "d82eaa26",
   "metadata": {},
   "outputs": [],
   "source": [
    "from pandas import read_csv\n",
    "from sklearn.decomposition import PCA\n"
   ]
  },
  {
   "cell_type": "code",
   "execution_count": 148,
   "id": "95880b01",
   "metadata": {},
   "outputs": [
    {
     "name": "stdout",
     "output_type": "stream",
     "text": [
      "[[-1.80e-06  5.97e-05  7.75e-05  5.97e-05  5.97e-05 -8.18e-07  1.00e+00\n",
      "   5.98e-05  5.96e-05  5.98e-05]\n",
      " [-8.33e-03  4.07e-01  4.23e-02  4.07e-01  4.07e-01  6.65e-02 -1.49e-04\n",
      "   4.07e-01  4.06e-01  4.09e-01]\n",
      " [-4.54e-03 -2.34e-02  9.59e-01 -2.34e-02 -2.34e-02  2.77e-01 -6.54e-05\n",
      "  -2.19e-02 -2.46e-02 -2.81e-02]]\n"
     ]
    }
   ],
   "source": [
    "pca = PCA(n_components=3)\n",
    "fit = pca.fit(X)\n",
    "print(fit.components_)"
   ]
  },
  {
   "cell_type": "code",
   "execution_count": 149,
   "id": "57587a45",
   "metadata": {},
   "outputs": [
    {
     "name": "stdout",
     "output_type": "stream",
     "text": [
      "[0.07 0.08 0.07 0.14 0.1  0.1  0.07 0.12 0.12 0.13]\n"
     ]
    }
   ],
   "source": [
    "from pandas import read_csv\n",
    "from sklearn.ensemble import ExtraTreesClassifier\n",
    "model = ExtraTreesClassifier()\n",
    "model.fit(X, Y)\n",
    "print(model.feature_importances_)"
   ]
  },
  {
   "cell_type": "code",
   "execution_count": 150,
   "id": "62d556dc",
   "metadata": {},
   "outputs": [],
   "source": [
    "#Higher the score higher the importance of the attribute.\n",
    "#High and low is very important attribute\n"
   ]
  },
  {
   "cell_type": "code",
   "execution_count": 151,
   "id": "387ef871",
   "metadata": {},
   "outputs": [],
   "source": [
    "from pandas import read_csv\n",
    "from sklearn.feature_selection import RFE\n",
    "from sklearn.linear_model import LogisticRegression"
   ]
  },
  {
   "cell_type": "code",
   "execution_count": 152,
   "id": "0b00a2c6",
   "metadata": {},
   "outputs": [
    {
     "name": "stderr",
     "output_type": "stream",
     "text": [
      "C:\\Users\\reauter\\anaconda3\\lib\\site-packages\\sklearn\\utils\\validation.py:70: FutureWarning: Pass n_features_to_select=3 as keyword args. From version 1.0 (renaming of 0.25) passing these as positional arguments will result in an error\n",
      "  warnings.warn(f\"Pass {args_msg} as keyword args. From version \"\n",
      "C:\\Users\\reauter\\anaconda3\\lib\\site-packages\\sklearn\\linear_model\\_logistic.py:763: ConvergenceWarning: lbfgs failed to converge (status=1):\n",
      "STOP: TOTAL NO. of ITERATIONS REACHED LIMIT.\n",
      "\n",
      "Increase the number of iterations (max_iter) or scale the data as shown in:\n",
      "    https://scikit-learn.org/stable/modules/preprocessing.html\n",
      "Please also refer to the documentation for alternative solver options:\n",
      "    https://scikit-learn.org/stable/modules/linear_model.html#logistic-regression\n",
      "  n_iter_i = _check_optimize_result(\n"
     ]
    },
    {
     "name": "stdout",
     "output_type": "stream",
     "text": [
      "Number of Features: %d\n",
      "Selected Features: %s\n",
      "Feature Ranking: %s\n"
     ]
    }
   ],
   "source": [
    "model = LogisticRegression()\n",
    "rfe = RFE(model, 3)\n",
    "fit = rfe.fit(X, Y)\n",
    "print(\"Number of Features: %d\")\n",
    "print(\"Selected Features: %s\")\n",
    "print(\"Feature Ranking: %s\")"
   ]
  },
  {
   "cell_type": "code",
   "execution_count": 153,
   "id": "9bf7e8d9",
   "metadata": {},
   "outputs": [],
   "source": [
    "from pandas import read_csv\n",
    "from numpy import set_printoptions\n",
    "from sklearn.preprocessing import Normalizer\n",
    "Data_normalizer = Normalizer(norm='l1').fit(X)\n",
    "Data_normalized = Data_normalizer.transform(X)"
   ]
  },
  {
   "cell_type": "code",
   "execution_count": 190,
   "id": "3bd07674",
   "metadata": {},
   "outputs": [
    {
     "name": "stdout",
     "output_type": "stream",
     "text": [
      "\n",
      "Normalized data:\n",
      " [[4.06e-02 2.33e-05 5.21e-04 2.33e-05 2.33e-05 4.82e-04 9.58e-01 2.33e-05\n",
      "  2.33e-05 2.33e-05]\n",
      " [9.63e-01 5.53e-04 9.14e-04 5.53e-04 5.53e-04 9.14e-04 3.20e-02 5.54e-04\n",
      "  5.53e-04 5.54e-04]\n",
      " [1.57e-02 6.64e-04 3.75e-05 6.64e-04 6.64e-04 4.05e-04 9.80e-01 6.64e-04\n",
      "  6.63e-04 6.73e-04]]\n"
     ]
    }
   ],
   "source": [
    "set_printoptions(precision=2)\n",
    "print (\"\\nNormalized data:\\n\", Data_normalized [0:3])"
   ]
  },
  {
   "cell_type": "code",
   "execution_count": 191,
   "id": "50266f6d",
   "metadata": {},
   "outputs": [
    {
     "data": {
      "text/plain": [
       "LogisticRegression()"
      ]
     },
     "execution_count": 191,
     "metadata": {},
     "output_type": "execute_result"
    }
   ],
   "source": [
    "#KNN\n",
    "#i. Training and testing on the entire dataset\n",
    "\n",
    "x = df.values[:, 4:12]\n",
    "y = df.values[:, 12]\n",
    "y=y.astype('int')\n",
    "from sklearn.linear_model import LogisticRegression\n",
    "logreg=LogisticRegression()\n",
    "logreg.fit(x,y)"
   ]
  },
  {
   "cell_type": "code",
   "execution_count": 192,
   "id": "26633c0a",
   "metadata": {},
   "outputs": [
    {
     "data": {
      "text/plain": [
       "array([ 0,  0,  0,  0,  0,  0,  0,  0,  0,  0, -1, -1,  0,  0,  0,  0, -1,\n",
       "        0,  0,  0,  0,  0,  0,  0])"
      ]
     },
     "execution_count": 192,
     "metadata": {},
     "output_type": "execute_result"
    }
   ],
   "source": [
    "logreg.predict(x)"
   ]
  },
  {
   "cell_type": "code",
   "execution_count": 193,
   "id": "9420d76c",
   "metadata": {},
   "outputs": [
    {
     "data": {
      "text/plain": [
       "24"
      ]
     },
     "execution_count": 193,
     "metadata": {},
     "output_type": "execute_result"
    }
   ],
   "source": [
    "y_pred=logreg.predict(x)\n",
    "len(y_pred)"
   ]
  },
  {
   "cell_type": "code",
   "execution_count": 194,
   "id": "9e195c33",
   "metadata": {},
   "outputs": [
    {
     "data": {
      "text/plain": [
       "0.6666666666666666"
      ]
     },
     "execution_count": 194,
     "metadata": {},
     "output_type": "execute_result"
    }
   ],
   "source": [
    "from sklearn import metrics\n",
    "metrics.accuracy_score(y,y_pred)"
   ]
  },
  {
   "cell_type": "code",
   "execution_count": 195,
   "id": "34470736",
   "metadata": {},
   "outputs": [
    {
     "data": {
      "text/plain": [
       "KNeighborsClassifier(n_neighbors=2)"
      ]
     },
     "execution_count": 195,
     "metadata": {},
     "output_type": "execute_result"
    }
   ],
   "source": [
    "from sklearn.neighbors import KNeighborsClassifier\n",
    "knn=KNeighborsClassifier(n_neighbors=2)\n",
    "knn.fit(x,y)"
   ]
  },
  {
   "cell_type": "code",
   "execution_count": 196,
   "id": "6381e955",
   "metadata": {},
   "outputs": [
    {
     "data": {
      "text/plain": [
       "0.9166666666666666"
      ]
     },
     "execution_count": 196,
     "metadata": {},
     "output_type": "execute_result"
    }
   ],
   "source": [
    ">>> y_pred=knn.predict(x)\n",
    ">>> metrics.accuracy_score(y,y_pred)"
   ]
  },
  {
   "cell_type": "code",
   "execution_count": 197,
   "id": "52e1cf8c",
   "metadata": {},
   "outputs": [
    {
     "data": {
      "text/plain": [
       "KNeighborsClassifier(n_neighbors=1)"
      ]
     },
     "execution_count": 197,
     "metadata": {},
     "output_type": "execute_result"
    }
   ],
   "source": [
    ">>> knn=KNeighborsClassifier(n_neighbors=1)\n",
    ">>> knn.fit(x,y)"
   ]
  },
  {
   "cell_type": "code",
   "execution_count": 198,
   "id": "e6ff2d1b",
   "metadata": {},
   "outputs": [
    {
     "data": {
      "text/plain": [
       "1.0"
      ]
     },
     "execution_count": 198,
     "metadata": {},
     "output_type": "execute_result"
    }
   ],
   "source": [
    ">>> y_pred=knn.predict(x)\n",
    ">>> metrics.accuracy_score(y,y_pred)\n"
   ]
  },
  {
   "cell_type": "code",
   "execution_count": 199,
   "id": "23190312",
   "metadata": {},
   "outputs": [
    {
     "data": {
      "text/plain": [
       "(24, 8)"
      ]
     },
     "execution_count": 199,
     "metadata": {},
     "output_type": "execute_result"
    }
   ],
   "source": [
    "#Splitting into train/test\n",
    "from sklearn.model_selection import train_test_split\n",
    "x.shape"
   ]
  },
  {
   "cell_type": "code",
   "execution_count": 200,
   "id": "d08f3706",
   "metadata": {},
   "outputs": [
    {
     "data": {
      "text/plain": [
       "(14, 8)"
      ]
     },
     "execution_count": 200,
     "metadata": {},
     "output_type": "execute_result"
    }
   ],
   "source": [
    "\n",
    ">>> x_train,x_test,y_train,y_test=train_test_split(x,y,test_size=0.4,random_state=4)\n",
    ">>> x_train.shape"
   ]
  },
  {
   "cell_type": "code",
   "execution_count": 201,
   "id": "ffe6010a",
   "metadata": {},
   "outputs": [
    {
     "data": {
      "text/plain": [
       "(10, 8)"
      ]
     },
     "execution_count": 201,
     "metadata": {},
     "output_type": "execute_result"
    }
   ],
   "source": [
    ">>> x_test.shape"
   ]
  },
  {
   "cell_type": "code",
   "execution_count": 202,
   "id": "44c42483",
   "metadata": {},
   "outputs": [
    {
     "data": {
      "text/plain": [
       "(14,)"
      ]
     },
     "execution_count": 202,
     "metadata": {},
     "output_type": "execute_result"
    }
   ],
   "source": [
    ">>> y_train.shape"
   ]
  },
  {
   "cell_type": "code",
   "execution_count": 203,
   "id": "53cd8d76",
   "metadata": {},
   "outputs": [
    {
     "data": {
      "text/plain": [
       "(10,)"
      ]
     },
     "execution_count": 203,
     "metadata": {},
     "output_type": "execute_result"
    }
   ],
   "source": [
    ">>> y_test.shape"
   ]
  },
  {
   "cell_type": "code",
   "execution_count": 204,
   "id": "9e94708b",
   "metadata": {},
   "outputs": [
    {
     "data": {
      "text/plain": [
       "1.0"
      ]
     },
     "execution_count": 204,
     "metadata": {},
     "output_type": "execute_result"
    }
   ],
   "source": [
    ">>> logreg=LogisticRegression()\n",
    ">>> logreg.fit(x_train,y_train)\n",
    ">>> y_pred=knn.predict(x_test)\n",
    ">>> metrics.accuracy_score(y_test,y_pred)"
   ]
  },
  {
   "cell_type": "code",
   "execution_count": 205,
   "id": "e35f354c",
   "metadata": {},
   "outputs": [
    {
     "data": {
      "text/plain": [
       "KNeighborsClassifier()"
      ]
     },
     "execution_count": 205,
     "metadata": {},
     "output_type": "execute_result"
    }
   ],
   "source": [
    ">>> knn=KNeighborsClassifier(n_neighbors=5)\n",
    ">>> knn.fit(x_train,y_train)"
   ]
  },
  {
   "cell_type": "code",
   "execution_count": 206,
   "id": "40751e73",
   "metadata": {},
   "outputs": [
    {
     "data": {
      "text/plain": [
       "0.7"
      ]
     },
     "execution_count": 206,
     "metadata": {},
     "output_type": "execute_result"
    }
   ],
   "source": [
    ">>> y_pred=knn.predict(x_test)\n",
    ">>> metrics.accuracy_score(y_test,y_pred)"
   ]
  },
  {
   "cell_type": "code",
   "execution_count": 211,
   "id": "9e1cd450",
   "metadata": {},
   "outputs": [
    {
     "data": {
      "text/plain": [
       "[0.8, 0.8, 0.7, 0.7, 0.7, 0.7, 0.7, 0.7, 0.7, 0.7, 0.7, 0.7, 0.7, 0.7]"
      ]
     },
     "execution_count": 211,
     "metadata": {},
     "output_type": "execute_result"
    }
   ],
   "source": [
    ">>> k_range=range(1,15)\n",
    ">>> scores=[]\n",
    ">>> for k in k_range:\n",
    "         knn = KNeighborsClassifier(n_neighbors=k)\n",
    "         knn.fit(x_train, y_train)\n",
    "         y_pred = knn.predict(x_test)\n",
    "         scores.append(metrics.accuracy_score(y_test, y_pred))\n",
    ">>> scores"
   ]
  },
  {
   "cell_type": "code",
   "execution_count": 219,
   "id": "d8629097",
   "metadata": {},
   "outputs": [
    {
     "data": {
      "text/plain": [
       "[<matplotlib.lines.Line2D at 0x209c96a8160>]"
      ]
     },
     "execution_count": 219,
     "metadata": {},
     "output_type": "execute_result"
    },
    {
     "data": {
      "image/png": "[encoded data removed]",
      "text/plain": [
       "<Figure size 432x288 with 1 Axes>"
      ]
     },
     "metadata": {},
     "output_type": "display_data"
    }
   ],
   "source": [
    ">>> import matplotlib.pyplot as plt\n",
    ">>> plt.plot(k_range,scores)"
   ]
  },
  {
   "cell_type": "code",
   "execution_count": 213,
   "id": "dc6b4de9",
   "metadata": {},
   "outputs": [
    {
     "data": {
      "text/plain": [
       "Text(0.5, 0, 'k for kNN')"
      ]
     },
     "execution_count": 213,
     "metadata": {},
     "output_type": "execute_result"
    },
    {
     "data": {
      "image/png": "[encoded data removed]",
      "text/plain": [
       "<Figure size 432x288 with 1 Axes>"
      ]
     },
     "metadata": {},
     "output_type": "display_data"
    }
   ],
   "source": [
    ">>> plt.xlabel('k for kNN')"
   ]
  },
  {
   "cell_type": "code",
   "execution_count": 214,
   "id": "aa504055",
   "metadata": {},
   "outputs": [
    {
     "data": {
      "text/plain": [
       "Text(0, 0.5, 'Testing Accuracy')"
      ]
     },
     "execution_count": 214,
     "metadata": {},
     "output_type": "execute_result"
    },
    {
     "data": {
      "image/png": "[encoded data removed]",
      "text/plain": [
       "<Figure size 432x288 with 1 Axes>"
      ]
     },
     "metadata": {},
     "output_type": "display_data"
    }
   ],
   "source": [
    ">>> plt.ylabel('Testing Accuracy')\n"
   ]
  },
  {
   "cell_type": "code",
   "execution_count": 218,
   "id": "80b9079d",
   "metadata": {},
   "outputs": [],
   "source": [
    "\n",
    "plt.show()"
   ]
  },
  {
   "cell_type": "code",
   "execution_count": 220,
   "id": "b74ddbbe",
   "metadata": {},
   "outputs": [
    {
     "data": {
      "text/plain": [
       "Text(0, 0.5, 'Testing Accuracy')"
      ]
     },
     "execution_count": 220,
     "metadata": {},
     "output_type": "execute_result"
    },
    {
     "data": {
      "image/png": "[encoded data removed]",
      "text/plain": [
       "<Figure size 432x288 with 1 Axes>"
      ]
     },
     "metadata": {},
     "output_type": "display_data"
    }
   ],
   "source": [
    ">>> import matplotlib.pyplot as plt\n",
    ">>> plt.plot(k_range,scores)\n",
    ">>> plt.xlabel('k for kNN')\n",
    ">>> plt.ylabel('Testing Accuracy')"
   ]
  },
  {
   "cell_type": "code",
   "execution_count": 224,
   "id": "6625764c",
   "metadata": {},
   "outputs": [
    {
     "data": {
      "text/plain": [
       "<matplotlib.collections.PathCollection at 0x209ca97a730>"
      ]
     },
     "execution_count": 224,
     "metadata": {},
     "output_type": "execute_result"
    },
    {
     "data": {
      "image/png": "[encoded data removed]",
      "text/plain": [
       "<Figure size 432x288 with 1 Axes>"
      ]
     },
     "metadata": {},
     "output_type": "display_data"
    }
   ],
   "source": [
    ">>> import numpy as np\n",
    ">>> import matplotlib.pyplot as plt\n",
    ">>> from matplotlib import style\n",
    ">>> style.use('ggplot')\n",
    ">>> from sklearn.cluster import KMeans\n",
    ">>> x = df.values[:, 4:10]\n",
    "y = df.values[:, 4:10]\n",
    ">>> plt.scatter(x,y)"
   ]
  },
  {
   "cell_type": "code",
   "execution_count": 227,
   "id": "508be0d5",
   "metadata": {},
   "outputs": [
    {
     "data": {
      "text/plain": [
       "KMeans(n_clusters=5)"
      ]
     },
     "execution_count": 227,
     "metadata": {},
     "output_type": "execute_result"
    }
   ],
   "source": [
    ">>> \n",
    ">>> kmeans=KMeans(n_clusters=5)\n",
    ">>> kmeans.fit(x)"
   ]
  },
  {
   "cell_type": "code",
   "execution_count": 228,
   "id": "43aa0b14",
   "metadata": {},
   "outputs": [
    {
     "data": {
      "text/plain": [
       "array([[ 8.  ,  8.  ],\n",
       "       [ 1.25,  1.9 ],\n",
       "       [ 9.  , 11.  ],\n",
       "       [ 5.  ,  8.  ],\n",
       "       [ 1.  ,  0.6 ]])"
      ]
     },
     "execution_count": 228,
     "metadata": {},
     "output_type": "execute_result"
    }
   ],
   "source": [
    ">>> centroids=kmeans.cluster_centers_\n",
    ">>> labels=kmeans.labels_\n",
    ">>> centroids"
   ]
  },
  {
   "cell_type": "code",
   "execution_count": 229,
   "id": "0bbd9ef8",
   "metadata": {},
   "outputs": [
    {
     "name": "stdout",
     "output_type": "stream",
     "text": [
      "[1. 2.] 1\n",
      "[5. 8.] 3\n",
      "[1.5 1.8] 1\n",
      "[8. 8.] 0\n",
      "[1.  0.6] 4\n"
     ]
    },
    {
     "ename": "IndexError",
     "evalue": "list index out of range",
     "output_type": "error",
     "traceback": [
      "\u001b[1;31m---------------------------------------------------------------------------\u001b[0m",
      "\u001b[1;31mIndexError\u001b[0m                                Traceback (most recent call last)",
      "\u001b[1;32m~\\AppData\\Local\\Temp/ipykernel_21688/713308915.py\u001b[0m in \u001b[0;36m<module>\u001b[1;34m\u001b[0m\n\u001b[0;32m      2\u001b[0m \u001b[1;32mfor\u001b[0m \u001b[0mi\u001b[0m \u001b[1;32min\u001b[0m \u001b[0mrange\u001b[0m\u001b[1;33m(\u001b[0m\u001b[0mlen\u001b[0m\u001b[1;33m(\u001b[0m\u001b[0mx\u001b[0m\u001b[1;33m)\u001b[0m\u001b[1;33m)\u001b[0m\u001b[1;33m:\u001b[0m\u001b[1;33m\u001b[0m\u001b[1;33m\u001b[0m\u001b[0m\n\u001b[0;32m      3\u001b[0m          \u001b[0mprint\u001b[0m\u001b[1;33m(\u001b[0m\u001b[0mx\u001b[0m\u001b[1;33m[\u001b[0m\u001b[0mi\u001b[0m\u001b[1;33m]\u001b[0m\u001b[1;33m,\u001b[0m\u001b[0mlabels\u001b[0m\u001b[1;33m[\u001b[0m\u001b[0mi\u001b[0m\u001b[1;33m]\u001b[0m\u001b[1;33m)\u001b[0m\u001b[1;33m\u001b[0m\u001b[1;33m\u001b[0m\u001b[0m\n\u001b[1;32m----> 4\u001b[1;33m          \u001b[0mplt\u001b[0m\u001b[1;33m.\u001b[0m\u001b[0mplot\u001b[0m\u001b[1;33m(\u001b[0m\u001b[0mx\u001b[0m\u001b[1;33m[\u001b[0m\u001b[0mi\u001b[0m\u001b[1;33m]\u001b[0m\u001b[1;33m[\u001b[0m\u001b[1;36m0\u001b[0m\u001b[1;33m]\u001b[0m\u001b[1;33m,\u001b[0m\u001b[0mx\u001b[0m\u001b[1;33m[\u001b[0m\u001b[0mi\u001b[0m\u001b[1;33m]\u001b[0m\u001b[1;33m[\u001b[0m\u001b[1;36m1\u001b[0m\u001b[1;33m]\u001b[0m\u001b[1;33m,\u001b[0m\u001b[0mcolors\u001b[0m\u001b[1;33m[\u001b[0m\u001b[0mlabels\u001b[0m\u001b[1;33m[\u001b[0m\u001b[0mi\u001b[0m\u001b[1;33m]\u001b[0m\u001b[1;33m]\u001b[0m\u001b[1;33m,\u001b[0m\u001b[0mmarkersize\u001b[0m\u001b[1;33m=\u001b[0m\u001b[1;36m10\u001b[0m\u001b[1;33m)\u001b[0m\u001b[1;33m\u001b[0m\u001b[1;33m\u001b[0m\u001b[0m\n\u001b[0m",
      "\u001b[1;31mIndexError\u001b[0m: list index out of range"
     ]
    },
    {
     "data": {
      "image/png": "[encoded data removed]",
      "text/plain": [
       "<Figure size 432x288 with 1 Axes>"
      ]
     },
     "metadata": {},
     "output_type": "display_data"
    }
   ],
   "source": [
    ">>> colors=['g.','r.','c.','y.']\n",
    ">>> for i in range(len(x)):\n",
    "         print(x[i],labels[i])\n",
    "         plt.plot(x[i][0],x[i][1],colors[labels[i]],markersize=10)"
   ]
  },
  {
   "cell_type": "code",
   "execution_count": 230,
   "id": "3a496aea",
   "metadata": {},
   "outputs": [
    {
     "data": {
      "text/plain": [
       "<matplotlib.collections.PathCollection at 0x209bf809310>"
      ]
     },
     "execution_count": 230,
     "metadata": {},
     "output_type": "execute_result"
    },
    {
     "data": {
      "image/png": "[encoded data removed]",
      "text/plain": [
       "<Figure size 432x288 with 1 Axes>"
      ]
     },
     "metadata": {},
     "output_type": "display_data"
    }
   ],
   "source": [
    ">>> plt.scatter(centroids[:,0],centroids[:,1],marker='x',s=150,linewidths=5,zorder=10)\n"
   ]
  },
  {
   "cell_type": "code",
   "execution_count": 232,
   "id": "f3fd002d",
   "metadata": {},
   "outputs": [],
   "source": [
    ">>> plt.show()"
   ]
  },
  {
   "cell_type": "code",
   "execution_count": 233,
   "id": "83a339ba",
   "metadata": {},
   "outputs": [
    {
     "data": {
      "image/png": "[encoded data removed]",
      "text/plain": [
       "<Figure size 432x288 with 11 Axes>"
      ]
     },
     "metadata": {},
     "output_type": "display_data"
    }
   ],
   "source": [
    ">>> df.plot(kind='density',subplots=True,sharex=False)\n",
    ">>> plt.show()"
   ]
  },
  {
   "cell_type": "code",
   "execution_count": 234,
   "id": "530d214b",
   "metadata": {},
   "outputs": [
    {
     "data": {
      "image/png": "[encoded data removed]",
      "text/plain": [
       "<Figure size 432x288 with 12 Axes>"
      ]
     },
     "metadata": {},
     "output_type": "display_data"
    }
   ],
   "source": [
    ">>> import matplotlib.pyplot as plt\n",
    ">>> df.hist()\n",
    ">>> plt.show()"
   ]
  },
  {
   "cell_type": "code",
   "execution_count": null,
   "id": "875fd853",
   "metadata": {},
   "outputs": [],
   "source": []
  }
 ],
 "metadata": {
  "kernelspec": {
   "display_name": "Python 3 (ipykernel)",
   "language": "python",
   "name": "python3"
  },
  "language_info": {
   "codemirror_mode": {
    "name": "ipython",
    "version": 3
   },
   "file_extension": ".py",
   "mimetype": "text/x-python",
   "name": "python",
   "nbconvert_exporter": "python",
   "pygments_lexer": "ipython3",
   "version": "3.9.7"
  }
 },
 "nbformat": 4,
 "nbformat_minor": 5
}
